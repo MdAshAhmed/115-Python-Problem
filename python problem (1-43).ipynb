{
 "cells": [
  {
   "cell_type": "code",
   "execution_count": 1,
   "id": "d37eab83",
   "metadata": {},
   "outputs": [],
   "source": [
    "# 1. Write a Python program to swap the values of two variables without using a temporary variable"
   ]
  },
  {
   "cell_type": "code",
   "execution_count": 4,
   "id": "64dd1d04",
   "metadata": {},
   "outputs": [
    {
     "name": "stdout",
     "output_type": "stream",
     "text": [
      "Enter the value of a: 3\n",
      "Enter the value of b: 4\n",
      "Before swapping:\n",
      "a = 3\n",
      "b = 4\n",
      "\n",
      "After swapping:\n",
      "a = 4\n",
      "b = 3\n"
     ]
    }
   ],
   "source": [
    "a = int(input(\"Enter the value of a: \"))\n",
    "b = int(input(\"Enter the value of b: \"))\n",
    "\n",
    "# Printing values before swapping\n",
    "print(\"Before swapping:\")\n",
    "print(\"a =\", a)\n",
    "print(\"b =\", b)\n",
    "\n",
    "# Swapping values without using a temporary variable\n",
    "a = a+b\n",
    "b = a-b\n",
    "a = a-b\n",
    "\n",
    "# Printing values after swapping\n",
    "print(\"\\nAfter swapping:\")\n",
    "print(\"a =\", a)\n",
    "print(\"b =\", b)"
   ]
  },
  {
   "cell_type": "code",
   "execution_count": 5,
   "id": "fd04ad1d",
   "metadata": {},
   "outputs": [],
   "source": [
    "# 2. Even or Odd: Write a Python program that takes an integer as input and prints whether it is even or odd."
   ]
  },
  {
   "cell_type": "code",
   "execution_count": 6,
   "id": "f9360559",
   "metadata": {},
   "outputs": [
    {
     "name": "stdout",
     "output_type": "stream",
     "text": [
      "Enter an integer: 5\n",
      "5 is odd.\n"
     ]
    }
   ],
   "source": [
    "# Taking input from the user\n",
    "num = int(input(\"Enter an integer: \"))\n",
    "\n",
    "# Checking if the number is even or odd\n",
    "if num % 2 == 0:\n",
    "    print(num, \"is even.\")\n",
    "else:\n",
    "    print(num, \"is odd.\")"
   ]
  },
  {
   "cell_type": "code",
   "execution_count": 7,
   "id": "444acd49",
   "metadata": {},
   "outputs": [],
   "source": [
    "# 3. String Reverse: Write a Python function to reverse a given string and return the reversed string."
   ]
  },
  {
   "cell_type": "code",
   "execution_count": 13,
   "id": "ae1d92d0",
   "metadata": {},
   "outputs": [
    {
     "name": "stdout",
     "output_type": "stream",
     "text": [
      "Enter a string: Bro Code\n",
      "Reversed string: edoC orB\n"
     ]
    }
   ],
   "source": [
    "# Taking input string from the user\n",
    "input_string = input(\"Enter a string: \")\n",
    "\n",
    "# Reversing the string using slicing\n",
    "reversed_string = input_string[::-1]\n",
    "\n",
    "# Printing the reversed string\n",
    "print(\"Reversed string:\",reversed_string)\n"
   ]
  },
  {
   "cell_type": "code",
   "execution_count": 15,
   "id": "3b4cd067",
   "metadata": {},
   "outputs": [
    {
     "name": "stdout",
     "output_type": "stream",
     "text": [
      "Original list of integers: [1, 2, 3, 4, 5]\n",
      "List of integers converted to strings: ['1', '2', '3', '4', '5']\n",
      "<class 'str'>\n"
     ]
    }
   ],
   "source": [
    "# 4. Type Conversion: Given a list of integers, write a Python program to convert each element of the list to a string.\n",
    "# Given list of integers\n",
    "integers_list = [1, 2, 3, 4, 5]\n",
    "\n",
    "# Using list comprehension to convert each element to string\n",
    "string_list = [str(num) for num in integers_list]\n",
    "\n",
    "# Printing the original list and the converted list\n",
    "print(\"Original list of integers:\", integers_list)\n",
    "print(\"List of integers converted to strings:\", string_list)\n",
    "print(type(string_list[0]))"
   ]
  },
  {
   "cell_type": "code",
   "execution_count": 16,
   "id": "a6146dc9",
   "metadata": {},
   "outputs": [],
   "source": [
    "# 5. Temperature Converter: Write a Python program that converts a temperature in Celsius to Fahrenheit. Take the Celsius temperature as input from the user."
   ]
  },
  {
   "cell_type": "code",
   "execution_count": 17,
   "id": "83efe162",
   "metadata": {},
   "outputs": [
    {
     "name": "stdout",
     "output_type": "stream",
     "text": [
      "Enter temperature in Celsius: 45\n",
      "Temperature in Fahrenheit: 113.0\n"
     ]
    }
   ],
   "source": [
    "# Taking Celsius temperature input from the user\n",
    "celsius = float(input(\"Enter temperature in Celsius: \"))\n",
    "\n",
    "# Converting Celsius to Fahrenheit\n",
    "fahrenheit = (celsius * 9/5) + 32\n",
    "\n",
    "# Printing the converted temperature\n",
    "print(\"Temperature in Fahrenheit:\", fahrenheit)\n"
   ]
  },
  {
   "cell_type": "code",
   "execution_count": 18,
   "id": "1f2261f9",
   "metadata": {},
   "outputs": [],
   "source": [
    "# 6. Data Type Checker: Write a Python function that takes a variable as input and returns the data type of the variable as a string (e.g., “int”, “float”, “str”, “list”, etc.)."
   ]
  },
  {
   "cell_type": "code",
   "execution_count": 19,
   "id": "7a4c6de9",
   "metadata": {},
   "outputs": [
    {
     "name": "stdout",
     "output_type": "stream",
     "text": [
      "Enter a variable: 5\n",
      "Data type of the variable: int\n"
     ]
    }
   ],
   "source": [
    "# Taking input from the user\n",
    "variable = eval(input(\"Enter a variable: \"))\n",
    "\n",
    "# Getting the type of the variable and converting it to a string\n",
    "data_type = str(type(variable)).split(\"'\")[1]\n",
    "\n",
    "# Printing the data type of the variable\n",
    "print(\"Data type of the variable:\", data_type)"
   ]
  },
  {
   "cell_type": "code",
   "execution_count": 20,
   "id": "4e5e2f6b",
   "metadata": {},
   "outputs": [],
   "source": [
    "# 7. String Palindrome: Write a Python function to check if a given string is a palindrome or not."
   ]
  },
  {
   "cell_type": "code",
   "execution_count": 21,
   "id": "46dd23de",
   "metadata": {},
   "outputs": [
    {
     "name": "stdout",
     "output_type": "stream",
     "text": [
      "Enter a string: Radar\n",
      "The string is a palindrome.\n"
     ]
    }
   ],
   "source": [
    "# Taking input from the user\n",
    "input_string = input(\"Enter a string: \")\n",
    "\n",
    "# Convert the input string to lowercase and remove spaces\n",
    "input_string = input_string.lower().replace(\" \", \"\")\n",
    "\n",
    "# Check if the string is equal to its reverse\n",
    "if input_string == input_string[::-1]:\n",
    "    print(\"The string is a palindrome.\")\n",
    "else:\n",
    "    print(\"The string is not a palindrome.\")"
   ]
  },
  {
   "cell_type": "code",
   "execution_count": 22,
   "id": "efd26a69",
   "metadata": {},
   "outputs": [],
   "source": [
    "# 8. String Reversal with Slicing: Write a Python function to reverse a given string using slicing."
   ]
  },
  {
   "cell_type": "code",
   "execution_count": 23,
   "id": "26a8722f",
   "metadata": {},
   "outputs": [
    {
     "name": "stdout",
     "output_type": "stream",
     "text": [
      "Enter a string: Where\n",
      "Reversed string: erehW\n"
     ]
    }
   ],
   "source": [
    "# Taking input from the user\n",
    "input_string = input(\"Enter a string: \")\n",
    "\n",
    "# Reversing the string using slicing\n",
    "reversed_string = input_string[::-1]\n",
    "\n",
    "# Printing the reversed string\n",
    "print(\"Reversed string:\", reversed_string)"
   ]
  },
  {
   "cell_type": "code",
   "execution_count": 24,
   "id": "040727c5",
   "metadata": {},
   "outputs": [],
   "source": [
    "# 9. String Concatenation: Write a Python program that takes two strings as input and concatenates them into a single string without using the `+` operator."
   ]
  },
  {
   "cell_type": "code",
   "execution_count": 25,
   "id": "65066936",
   "metadata": {},
   "outputs": [
    {
     "name": "stdout",
     "output_type": "stream",
     "text": [
      "Enter the first string: MD ASHIK\n",
      "Enter the second string: Ahmed\n",
      "Concatenated string (using string formatting): MD ASHIKAhmed\n",
      "Concatenated string (using string slicing): MD ASHIKAhmed\n"
     ]
    }
   ],
   "source": [
    "# Method 1: Using string formatting\n",
    "string1 = input(\"Enter the first string: \")\n",
    "string2 = input(\"Enter the second string: \")\n",
    "\n",
    "concatenated_string = \"%s%s\" % (string1, string2)\n",
    "print(\"Concatenated string (using string formatting):\", concatenated_string)\n",
    "\n",
    "# Method 2: Using string slicing\n",
    "concatenated_string = string1[:]+string2[:]\n",
    "print(\"Concatenated string (using string slicing):\", concatenated_string)"
   ]
  },
  {
   "cell_type": "code",
   "execution_count": 26,
   "id": "d4f1f468",
   "metadata": {},
   "outputs": [],
   "source": [
    "# 10. Typecasting Challenge: Given three variables: `a = ‘100’`, `b = 25`, and `c = ‘10.5’`, write a Python program to perform the following operations and print the results: – Convert `a` to an integer and add it to `b`. – Convert `c` to a float and subtract it from the result of the first operation. – Convert the final result to a string and concatenate it with the string ” is the answer.”"
   ]
  },
  {
   "cell_type": "code",
   "execution_count": 27,
   "id": "925a4f20",
   "metadata": {},
   "outputs": [
    {
     "name": "stdout",
     "output_type": "stream",
     "text": [
      "114.5 is the answer.\n"
     ]
    }
   ],
   "source": [
    "# Given variables\n",
    "a = '100'\n",
    "b = 25\n",
    "c = '10.5'\n",
    "\n",
    "# Convert 'a' to an integer and add it to 'b'\n",
    "result1 = int(a) + b\n",
    "\n",
    "# Convert 'c' to a float and subtract it from the result of the first operation\n",
    "result2 = result1 - float(c)\n",
    "\n",
    "# Convert the final result to a string and concatenate it with the string \" is the answer.\"\n",
    "final_result = str(result2) + \" is the answer.\"\n",
    "\n",
    "# Print 11. Positive, Negative, or Zero: Write a Python program that takes a number as input and prints whether it is positive, negative, or zero.the final result\n",
    "print(final_result)11. Positive, Negative, or Zero: Write a Python program that takes a number as input and prints whether it is positive, negative, or zero."
   ]
  },
  {
   "cell_type": "code",
   "execution_count": 28,
   "id": "62082ac8",
   "metadata": {},
   "outputs": [],
   "source": [
    "#11. Positive, Negative, or Zero: Write a Python program that takes a number as input and prints whether it is positive, negative, or zero."
   ]
  },
  {
   "cell_type": "code",
   "execution_count": 29,
   "id": "5bbeaa75",
   "metadata": {},
   "outputs": [
    {
     "name": "stdout",
     "output_type": "stream",
     "text": [
      "Enter a number: 34\n",
      "The number is positive.\n"
     ]
    }
   ],
   "source": [
    "# Taking input from the user\n",
    "number = float(input(\"Enter a number: \"))\n",
    "\n",
    "# Checking if the number is positive, negative, or zero\n",
    "if number > 0:\n",
    "    print(\"The number is positive.\")\n",
    "elif number < 0:\n",
    "    print(\"The number is negative.\")\n",
    "else:\n",
    "    print(\"The number is zero.\")"
   ]
  },
  {
   "cell_type": "code",
   "execution_count": 30,
   "id": "2bc08306",
   "metadata": {},
   "outputs": [],
   "source": [
    "# 12. Largest of Three Numbers: Write a Python program that takes three numbers as input and prints the largest among them."
   ]
  },
  {
   "cell_type": "code",
   "execution_count": 31,
   "id": "19f16a2e",
   "metadata": {},
   "outputs": [
    {
     "name": "stdout",
     "output_type": "stream",
     "text": [
      "Enter the first number: 12\n",
      "Enter the second number: 34\n",
      "Enter the third number: 31\n",
      "The largest number among 12.0 , 34.0 and 31.0 is 34.0\n"
     ]
    }
   ],
   "source": [
    "# Taking input from the user for three numbers\n",
    "num1 = float(input(\"Enter the first number: \"))\n",
    "num2 = float(input(\"Enter the second number: \"))\n",
    "num3 = float(input(\"Enter the third number: \"))\n",
    "\n",
    "# Comparing the numbers to find the largest one\n",
    "if num1 >= num2 and num1 >= num3:\n",
    "    largest = num1\n",
    "elif num2 >= num1 and num2 >= num3:\n",
    "    largest = num2\n",
    "else:\n",
    "    largest = num3\n",
    "\n",
    "# Printing the largest number\n",
    "print(\"The largest number among\", num1, \",\", num2, \"and\", num3, \"is\", largest)"
   ]
  },
  {
   "cell_type": "code",
   "execution_count": 32,
   "id": "b7375a33",
   "metadata": {},
   "outputs": [],
   "source": [
    "# 13. Leap Year Checker: Write a Python program that takes a year as input and determines if it is a leap year or not."
   ]
  },
  {
   "cell_type": "code",
   "execution_count": 33,
   "id": "2810cdd2",
   "metadata": {},
   "outputs": [
    {
     "name": "stdout",
     "output_type": "stream",
     "text": [
      "Enter a year: 2024\n",
      "2024 is a leap year.\n"
     ]
    }
   ],
   "source": [
    "# Taking input from the user for the year\n",
    "year = int(input(\"Enter a year: \"))\n",
    "\n",
    "# Checking if it is a leap year\n",
    "if (year % 4 == 0 and year % 100 != 0) or (year % 400 == 0):\n",
    "    print(year, \"is a leap year.\")\n",
    "else:\n",
    "    print(year, \"is not a leap year.\")\n"
   ]
  },
  {
   "cell_type": "code",
   "execution_count": 34,
   "id": "9f889c4b",
   "metadata": {},
   "outputs": [],
   "source": [
    "# 14. Grades Classification: Write a Python program that takes a student’s percentage as input and prints their corresponding grade according to the following criteria: – 90% or above: A+ – 80-89%: A – 70-79%: B – 60-69%: C – Below 60%: Fail"
   ]
  },
  {
   "cell_type": "code",
   "execution_count": 35,
   "id": "3a2a217d",
   "metadata": {},
   "outputs": [
    {
     "name": "stdout",
     "output_type": "stream",
     "text": [
      "Enter the student's percentage: 45\n",
      "The student's grade is: Fail\n"
     ]
    }
   ],
   "source": [
    "# Taking input from the user for the student's percentage\n",
    "percentage = float(input(\"Enter the student's percentage: \"))\n",
    "\n",
    "# Determining the grade based on the percentage\n",
    "if percentage >= 90:\n",
    "    grade = \"A+\"\n",
    "elif percentage >= 80:\n",
    "    grade = \"A\"\n",
    "elif percentage >= 70:\n",
    "    grade = \"B\"\n",
    "elif percentage >= 60:\n",
    "    grade = \"C\"\n",
    "else:\n",
    "    grade = \"Fail\"\n",
    "\n",
    "# Printing the corresponding grade\n",
    "print(\"The student's grade is:\", grade)\n",
    "\n"
   ]
  },
  {
   "cell_type": "code",
   "execution_count": 36,
   "id": "518d0316",
   "metadata": {},
   "outputs": [],
   "source": [
    "# 15. Vowel or Consonant: Write a Python program that takes a single character as input and determines whether it is a vowel or a consonant."
   ]
  },
  {
   "cell_type": "code",
   "execution_count": 37,
   "id": "e2cf2102",
   "metadata": {},
   "outputs": [
    {
     "name": "stdout",
     "output_type": "stream",
     "text": [
      "Enter a single character: a\n",
      "The character is a vowel.\n"
     ]
    }
   ],
   "source": [
    "# Taking input from the user for a single character\n",
    "character = input(\"Enter a single character: \")\n",
    "\n",
    "# Checking if the input is a single character\n",
    "if len(character) == 1:\n",
    "    # Converting the input character to lowercase\n",
    "    character = character.lower()\n",
    "\n",
    "    # Checking if the input character is a vowel or a consonant\n",
    "    if character in 'aeiou':\n",
    "        print(\"The character is a vowel.\")\n",
    "    else:\n",
    "        print(\"The character is a consonant.\")\n",
    "else:\n",
    "    print(\"Please enter a single character.\")\n"
   ]
  },
  {
   "cell_type": "code",
   "execution_count": 38,
   "id": "fa142688",
   "metadata": {},
   "outputs": [],
   "source": [
    "# 16. Time Classification: Write a Python program that takes the time in hours (24-hour format) as input and prints “Good Morning”, “Good Afternoon”, “Good Evening”, or “Good Night” based on the time."
   ]
  },
  {
   "cell_type": "code",
   "execution_count": 39,
   "id": "77afd813",
   "metadata": {},
   "outputs": [
    {
     "name": "stdout",
     "output_type": "stream",
     "text": [
      "Enter the time in hours (24-hour format): 24\n",
      "Good Evening\n"
     ]
    }
   ],
   "source": [
    "# Taking input from the user for the time in hours (24-hour format)\n",
    "hours = int(input(\"Enter the time in hours (24-hour format): \"))\n",
    "\n",
    "# Classifying the time\n",
    "if 0 <= hours < 6:\n",
    "    print(\"Good Night\")\n",
    "elif 6 <= hours < 12:\n",
    "    print(\"Good Morning\")\n",
    "elif 12 <= hours < 18:\n",
    "    print(\"Good Afternoon\")\n",
    "else:\n",
    "    print(\"Good Evening\")\n"
   ]
  },
  {
   "cell_type": "code",
   "execution_count": 40,
   "id": "36af474c",
   "metadata": {},
   "outputs": [],
   "source": [
    "# 17. Triangle Type Checker: Write a Python program that takes three sides of a triangle as input and determines whether it forms an equilateral, isosceles, or scalene triangle."
   ]
  },
  {
   "cell_type": "code",
   "execution_count": 41,
   "id": "18d5d827",
   "metadata": {},
   "outputs": [
    {
     "name": "stdout",
     "output_type": "stream",
     "text": [
      "Enter the length of the first side: 2\n",
      "Enter the length of the second side: 5\n",
      "Enter the length of the third side: 6\n",
      "It forms a scalene triangle.\n"
     ]
    }
   ],
   "source": [
    "# Taking input from the user for the lengths of the sides of the triangle\n",
    "side1 = float(input(\"Enter the length of the first side: \"))\n",
    "side2 = float(input(\"Enter the length of the second side: \"))\n",
    "side3 = float(input(\"Enter the length of the third side: \"))\n",
    "\n",
    "# Checking the type of triangle\n",
    "if side1 == side2 == side3:\n",
    "    print(\"It forms an equilateral triangle.\")\n",
    "elif side1 == side2 or side1 == side3 or side2 == side3:\n",
    "    print(\"It forms an isosceles triangle.\")\n",
    "else:\n",
    "    print(\"It forms a scalene triangle.\")\n"
   ]
  },
  {
   "cell_type": "code",
   "execution_count": 42,
   "id": "563d7694",
   "metadata": {},
   "outputs": [],
   "source": [
    "# 18. Quadratic Equation Solver: Write a Python program that takes the coefficients (a, b, c) of a quadratic equation as input and calculates and prints the real roots (if they exist) or a message indicating the complex roots."
   ]
  },
  {
   "cell_type": "code",
   "execution_count": 43,
   "id": "6e46ce7d",
   "metadata": {},
   "outputs": [
    {
     "name": "stdout",
     "output_type": "stream",
     "text": [
      "Enter the coefficient 'a': 2\n",
      "Enter the coefficient 'b': 3\n",
      "Enter the coefficient 'c': 4\n",
      "The roots are complex: (-0.75+1.1989578808281798j) and (-0.75-1.1989578808281798j)\n"
     ]
    }
   ],
   "source": [
    "import cmath\n",
    "\n",
    "# Taking input from the user for the coefficients of the quadratic equation\n",
    "a = float(input(\"Enter the coefficient 'a': \"))\n",
    "b = float(input(\"Enter the coefficient 'b': \"))\n",
    "c = float(input(\"Enter the coefficient 'c': \"))\n",
    "\n",
    "# Calculating the discriminant\n",
    "discriminant = b**2 - 4*a*c\n",
    "\n",
    "# Checking the nature of roots and calculating them accordingly\n",
    "if discriminant > 0:\n",
    "    # Real and distinct roots\n",
    "    root1 = (-b + (discriminant)**0.5) / (2*a)\n",
    "    root2 = (-b - (discriminant)**0.5) / (2*a)\n",
    "    print(\"The roots are real and distinct:\", root1, \"and\", root2)\n",
    "elif discriminant == 0:\n",
    "    # Real and equal roots\n",
    "    root = -b / (2*a)\n",
    "    print(\"The root is real and equal:\", root)\n",
    "else:\n",
    "    # Complex roots\n",
    "    real_part = -b / (2*a)\n",
    "    imaginary_part = cmath.sqrt(abs(discriminant)) / (2*a)\n",
    "    root1 = complex(real_part, imaginary_part)\n",
    "    root2 = complex(real_part, -imaginary_part)\n",
    "    print(\"The roots are complex:\", root1, \"and\", root2)\n"
   ]
  },
  {
   "cell_type": "code",
   "execution_count": 44,
   "id": "2d222696",
   "metadata": {},
   "outputs": [],
   "source": [
    "# 19. Number Ranges: Write a Python program that takes an integer as input and prints whether the number falls within the ranges: 0-50, 51-100, 101-150, or above 150."
   ]
  },
  {
   "cell_type": "code",
   "execution_count": 45,
   "id": "16cdf2bd",
   "metadata": {},
   "outputs": [
    {
     "name": "stdout",
     "output_type": "stream",
     "text": [
      "Enter an integer: 34\n",
      "The number falls within the range 0-50.\n"
     ]
    }
   ],
   "source": [
    "# Taking input from the user\n",
    "number = int(input(\"Enter an integer: \"))\n",
    "\n",
    "# Checking the range in which the number falls and printing the result\n",
    "if 0 <= number <= 50:\n",
    "    print(\"The number falls within the range 0-50.\")\n",
    "elif 51 <= number <= 100:\n",
    "    print(\"The number falls within the range 51-100.\")\n",
    "elif 101 <= number <= 150:\n",
    "    print(\"The number falls within the range 101-150.\")\n",
    "else:\n",
    "    print(\"The number is above 150.\")\n"
   ]
  },
  {
   "cell_type": "code",
   "execution_count": 46,
   "id": "fa0eca4e",
   "metadata": {},
   "outputs": [],
   "source": [
    "# 20. Sum of N Numbers: Write a Python program using a for loop to calculate the sum of the first N natural numbers, where N is taken as input from the user."
   ]
  },
  {
   "cell_type": "code",
   "execution_count": 47,
   "id": "ea687cd5",
   "metadata": {},
   "outputs": [
    {
     "name": "stdout",
     "output_type": "stream",
     "text": [
      "Enter a positive integer N: 6\n",
      "The sum of the first 6 natural numbers is: 21\n"
     ]
    }
   ],
   "source": [
    "# Taking input from the user for N\n",
    "N = int(input(\"Enter a positive integer N: \"))\n",
    "\n",
    "# Initializing the sum\n",
    "total_sum = 0\n",
    "\n",
    "# Calculating the sum of the first N natural numbers using a for loop\n",
    "for i in range(1, N + 1):\n",
    "    total_sum += i\n",
    "\n",
    "# Printing the sum\n",
    "print(\"The sum of the first\", N, \"natural numbers is:\", total_sum)\n"
   ]
  },
  {
   "cell_type": "code",
   "execution_count": 48,
   "id": "560ca728",
   "metadata": {},
   "outputs": [],
   "source": [
    "# 21. Factorial Calculator: Write a Python program using a while loop to calculate the factorial of a given number N."
   ]
  },
  {
   "cell_type": "code",
   "execution_count": 49,
   "id": "d69ef98c",
   "metadata": {},
   "outputs": [
    {
     "name": "stdout",
     "output_type": "stream",
     "text": [
      "Enter a non-negative integer N: 5\n",
      "The factorial of 5 is: 120\n"
     ]
    }
   ],
   "source": [
    "# Taking input from the user for N\n",
    "N = int(input(\"Enter a non-negative integer N: \"))\n",
    "\n",
    "# Checking if N is a non-negative integer\n",
    "if N < 0:\n",
    "    print(\"Factorial is not defined for negative numbers.\")\n",
    "else:\n",
    "    # Initializing variables\n",
    "    factorial = 1\n",
    "    num = 1\n",
    "    \n",
    "    # Calculating the factorial using a while loop\n",
    "    while num <= N:\n",
    "        factorial *= num\n",
    "        num += 1\n",
    "\n",
    "    # Printing the factorial\n",
    "    print(\"The factorial of\", N, \"is:\", factorial)\n"
   ]
  },
  {
   "cell_type": "code",
   "execution_count": 50,
   "id": "a395fd4b",
   "metadata": {},
   "outputs": [],
   "source": [
    "# 22. Table of a Number: Write a Python program using a for loop to print the multiplication table of a given number N."
   ]
  },
  {
   "cell_type": "code",
   "execution_count": 51,
   "id": "3b6d142f",
   "metadata": {},
   "outputs": [
    {
     "name": "stdout",
     "output_type": "stream",
     "text": [
      "Enter a number to print its multiplication table: 32\n",
      "Multiplication table of 32 :\n",
      "32 x 1 = 32\n",
      "32 x 2 = 64\n",
      "32 x 3 = 96\n",
      "32 x 4 = 128\n",
      "32 x 5 = 160\n",
      "32 x 6 = 192\n",
      "32 x 7 = 224\n",
      "32 x 8 = 256\n",
      "32 x 9 = 288\n",
      "32 x 10 = 320\n"
     ]
    }
   ],
   "source": [
    "# Taking input from the user for N\n",
    "N = int(input(\"Enter a number to print its multiplication table: \"))\n",
    "\n",
    "# Using a for loop to print the multiplication table\n",
    "print(\"Multiplication table of\", N, \":\")\n",
    "for i in range(1, 11):\n",
    "    print(N, \"x\", i, \"=\", N * i)\n",
    "\n",
    "    "
   ]
  },
  {
   "cell_type": "code",
   "execution_count": 52,
   "id": "f227edf8",
   "metadata": {},
   "outputs": [],
   "source": [
    "# 23. Count Digits in a Number: Write a Python program using a while loop to count the number of digits in a given integer N."
   ]
  },
  {
   "cell_type": "code",
   "execution_count": 53,
   "id": "09de0f63",
   "metadata": {},
   "outputs": [
    {
     "name": "stdout",
     "output_type": "stream",
     "text": [
      "Enter an integer: 34\n",
      "The number of digits in the given integer is: 2\n"
     ]
    }
   ],
   "source": [
    "# Taking input from the user for N\n",
    "N = int(input(\"Enter an integer: \"))\n",
    "\n",
    "# Initializing the count of digits\n",
    "count = 0\n",
    "\n",
    "# Handling the case when N is 0 separately\n",
    "if N == 0:\n",
    "    count = 1\n",
    "else:\n",
    "    # Taking the absolute value of N to handle negative numbers\n",
    "    N = abs(N)\n",
    "    \n",
    "    # Using a while loop to count the number of digits\n",
    "    while N > 0:\n",
    "        count += 1\n",
    "        N //= 10\n",
    "\n",
    "# Printing the count of digits\n",
    "print(\"The number of digits in the given integer is:\", count)\n",
    "\n"
   ]
  },
  {
   "cell_type": "code",
   "execution_count": 54,
   "id": "e0d33423",
   "metadata": {},
   "outputs": [],
   "source": [
    "# 24. Fibonacci Sequence: Write a Python program using a for loop to generate the Fibonacci sequence up to a given limit N."
   ]
  },
  {
   "cell_type": "code",
   "execution_count": 55,
   "id": "15ba8353",
   "metadata": {},
   "outputs": [
    {
     "name": "stdout",
     "output_type": "stream",
     "text": [
      "Enter the limit for the Fibonacci sequence: 23\n",
      "The Fibonacci sequence up to the limit 23 is: [0, 1, 1, 2, 3, 5, 8, 13, 21]\n"
     ]
    }
   ],
   "source": [
    "# Taking input from the user for the limit N\n",
    "N = int(input(\"Enter the limit for the Fibonacci sequence: \"))\n",
    "\n",
    "# Initializing the first two numbers of the Fibonacci sequence\n",
    "fibonacci_sequence = [0, 1]\n",
    "\n",
    "# Generating the Fibonacci sequence up to the limit N using a for loop\n",
    "for i in range(2, N):\n",
    "    next_number = fibonacci_sequence[-1] + fibonacci_sequence[-2]\n",
    "    if next_number <= N:\n",
    "        fibonacci_sequence.append(next_number)\n",
    "    else:\n",
    "        break\n",
    "\n",
    "# Printing the Fibonacci sequence\n",
    "print(\"The Fibonacci sequence up to the limit\", N, \"is:\", fibonacci_sequence)\n"
   ]
  },
  {
   "cell_type": "code",
   "execution_count": 56,
   "id": "02f9ea6f",
   "metadata": {},
   "outputs": [],
   "source": [
    "# 25. Sum of Even Numbers: Write a Python program using a while loop to calculate the sum of all even numbers between 1 and N, where N is taken as input from the user."
   ]
  },
  {
   "cell_type": "code",
   "execution_count": 57,
   "id": "3b370f0d",
   "metadata": {},
   "outputs": [
    {
     "name": "stdout",
     "output_type": "stream",
     "text": [
      "Enter a positive integer N: 23\n",
      "The sum of even numbers between 1 and 23 is: 132\n"
     ]
    }
   ],
   "source": [
    "# Taking input from the user for N\n",
    "N = int(input(\"Enter a positive integer N: \"))\n",
    "\n",
    "# Initializing the sum of even numbers and the starting number\n",
    "even_sum = 0\n",
    "num = 2\n",
    "\n",
    "# Calculating the sum of even numbers using a while loop\n",
    "while num <= N:\n",
    "    even_sum += num\n",
    "    num += 2\n",
    "\n",
    "# Printing the sum of even numbers\n",
    "print(\"The sum of even numbers between 1 and\", N, \"is:\", even_sum)\n",
    "\n"
   ]
  },
  {
   "cell_type": "code",
   "execution_count": 58,
   "id": "e0295e8e",
   "metadata": {},
   "outputs": [],
   "source": [
    "# 26. Print Patterns: Write a Python program using nested for loops to print various patterns, such as a right-angled triangle, an inverted right-angled triangle, and so on"
   ]
  },
  {
   "cell_type": "code",
   "execution_count": 59,
   "id": "8905ccc7",
   "metadata": {},
   "outputs": [
    {
     "name": "stdout",
     "output_type": "stream",
     "text": [
      "* \n",
      "* * \n",
      "* * * \n",
      "* * * * \n",
      "* * * * * \n"
     ]
    }
   ],
   "source": [
    "# Number of rows in the triangle\n",
    "rows = 5\n",
    "\n",
    "# Outer loop for the rows\n",
    "for i in range(1, rows + 1):\n",
    "    # Inner loop for each row\n",
    "    for j in range(1, i + 1):\n",
    "        print(\"*\", end=\" \")\n",
    "    print()\n"
   ]
  },
  {
   "cell_type": "code",
   "execution_count": 60,
   "id": "0adab677",
   "metadata": {},
   "outputs": [
    {
     "name": "stdout",
     "output_type": "stream",
     "text": [
      "* * * * * \n",
      "* * * * \n",
      "* * * \n",
      "* * \n",
      "* \n"
     ]
    }
   ],
   "source": [
    "# Number of rows in the triangle\n",
    "rows = 5\n",
    "\n",
    "# Outer loop for the rows\n",
    "for i in range(rows, 0, -1):\n",
    "    # Inner loop for each row\n",
    "    for j in range(1, i + 1):\n",
    "        print(\"*\", end=\" \")\n",
    "    print()\n"
   ]
  },
  {
   "cell_type": "code",
   "execution_count": 61,
   "id": "f95c6846",
   "metadata": {},
   "outputs": [
    {
     "name": "stdout",
     "output_type": "stream",
     "text": [
      "* \n",
      "* * \n",
      "*   * \n",
      "*     * \n",
      "* * * * * \n"
     ]
    }
   ],
   "source": [
    "# Number of rows in the triangle\n",
    "rows = 5\n",
    "\n",
    "# Outer loop for the rows\n",
    "for i in range(1, rows + 1):\n",
    "    # Inner loop for each row\n",
    "    for j in range(1, i + 1):\n",
    "        if j == 1 or j == i or i == rows:\n",
    "            print(\"*\", end=\" \")\n",
    "        else:\n",
    "            print(\" \", end=\" \")\n",
    "    print()\n"
   ]
  },
  {
   "cell_type": "code",
   "execution_count": 62,
   "id": "6598b48a",
   "metadata": {},
   "outputs": [],
   "source": [
    "# 27. Prime Number Checker: Write a Python program using a while loop to check if a given number N is prime or not."
   ]
  },
  {
   "cell_type": "code",
   "execution_count": 63,
   "id": "1d4a0acc",
   "metadata": {},
   "outputs": [
    {
     "name": "stdout",
     "output_type": "stream",
     "text": [
      "Enter a number to check if it's prime: 24\n",
      "24 is not a prime number.\n"
     ]
    }
   ],
   "source": [
    "# Taking input from the user for N\n",
    "N = int(input(\"Enter a number to check if it's prime: \"))\n",
    "\n",
    "# Initializing variables\n",
    "is_prime = True\n",
    "divisor = 2\n",
    "\n",
    "# Checking if N is prime using a while loop\n",
    "while divisor * divisor <= N:\n",
    "    if N % divisor == 0:\n",
    "        is_prime = False\n",
    "        break\n",
    "    divisor += 1\n",
    "\n",
    "# Printing the result\n",
    "if N <= 1:\n",
    "    is_prime = False\n",
    "\n",
    "if is_prime:\n",
    "    print(N, \"is a prime number.\")\n",
    "else:\n",
    "    print(N, \"is not a prime number.\")\n"
   ]
  },
  {
   "cell_type": "code",
   "execution_count": 64,
   "id": "d2d0b592",
   "metadata": {},
   "outputs": [],
   "source": [
    "# 28. List Manipulation: Given a list of integers, write a Python program using a for loop to find the sum, average, maximum, and minimum values in the list."
   ]
  },
  {
   "cell_type": "code",
   "execution_count": 65,
   "id": "fce2c487",
   "metadata": {},
   "outputs": [
    {
     "name": "stdout",
     "output_type": "stream",
     "text": [
      "Sum: 75\n",
      "Average: 15.0\n",
      "Maximum: 25\n",
      "Minimum: 5\n"
     ]
    }
   ],
   "source": [
    "# Given list of integers\n",
    "numbers = [5, 10, 15, 20, 25]\n",
    "\n",
    "# Initializing variables\n",
    "total_sum = 0\n",
    "maximum = numbers[0]\n",
    "minimum = numbers[0]\n",
    "\n",
    "# Calculating the sum and finding the maximum and minimum values\n",
    "for num in numbers:\n",
    "    total_sum += num\n",
    "    if num > maximum:\n",
    "        maximum = num\n",
    "    if num < minimum:\n",
    "        minimum = num\n",
    "\n",
    "# Calculating the average\n",
    "average = total_sum / len(numbers)\n",
    "\n",
    "# Printing the results\n",
    "print(\"Sum:\", total_sum)\n",
    "print(\"Average:\", average)\n",
    "print(\"Maximum:\", maximum)\n",
    "print(\"Minimum:\", minimum)\n"
   ]
  },
  {
   "cell_type": "code",
   "execution_count": 66,
   "id": "b12908a1",
   "metadata": {},
   "outputs": [],
   "source": [
    "# 29. Reverse String: Write a Python program using a while loop to reverse a given string."
   ]
  },
  {
   "cell_type": "code",
   "execution_count": 67,
   "id": "4e3f2968",
   "metadata": {},
   "outputs": [
    {
     "name": "stdout",
     "output_type": "stream",
     "text": [
      "Enter a string: was\n",
      "Reversed string: saw\n"
     ]
    }
   ],
   "source": [
    "# Taking input from the user for the string\n",
    "input_string = input(\"Enter a string: \")\n",
    "\n",
    "# Initializing variables\n",
    "reverse_string = \"\"\n",
    "index = len(input_string) - 1\n",
    "\n",
    "# Reversing the string using a while loop\n",
    "while index >= 0:\n",
    "    reverse_string += input_string[index]\n",
    "    index -= 1\n",
    "\n",
    "# Printing the reversed string\n",
    "print(\"Reversed string:\", reverse_string)\n"
   ]
  },
  {
   "cell_type": "code",
   "execution_count": 68,
   "id": "73209c79",
   "metadata": {},
   "outputs": [],
   "source": [
    "# 30. Multiplication Table: Write a Python program using nested loops to print the multiplication table from 1 to 10."
   ]
  },
  {
   "cell_type": "code",
   "execution_count": 69,
   "id": "6148e71b",
   "metadata": {},
   "outputs": [
    {
     "name": "stdout",
     "output_type": "stream",
     "text": [
      "1 * 1 = 1\n",
      "1 * 2 = 2\n",
      "1 * 3 = 3\n",
      "1 * 4 = 4\n",
      "1 * 5 = 5\n",
      "1 * 6 = 6\n",
      "1 * 7 = 7\n",
      "1 * 8 = 8\n",
      "1 * 9 = 9\n",
      "1 * 10 = 10\n",
      "\n",
      "2 * 1 = 2\n",
      "2 * 2 = 4\n",
      "2 * 3 = 6\n",
      "2 * 4 = 8\n",
      "2 * 5 = 10\n",
      "2 * 6 = 12\n",
      "2 * 7 = 14\n",
      "2 * 8 = 16\n",
      "2 * 9 = 18\n",
      "2 * 10 = 20\n",
      "\n",
      "3 * 1 = 3\n",
      "3 * 2 = 6\n",
      "3 * 3 = 9\n",
      "3 * 4 = 12\n",
      "3 * 5 = 15\n",
      "3 * 6 = 18\n",
      "3 * 7 = 21\n",
      "3 * 8 = 24\n",
      "3 * 9 = 27\n",
      "3 * 10 = 30\n",
      "\n",
      "4 * 1 = 4\n",
      "4 * 2 = 8\n",
      "4 * 3 = 12\n",
      "4 * 4 = 16\n",
      "4 * 5 = 20\n",
      "4 * 6 = 24\n",
      "4 * 7 = 28\n",
      "4 * 8 = 32\n",
      "4 * 9 = 36\n",
      "4 * 10 = 40\n",
      "\n",
      "5 * 1 = 5\n",
      "5 * 2 = 10\n",
      "5 * 3 = 15\n",
      "5 * 4 = 20\n",
      "5 * 5 = 25\n",
      "5 * 6 = 30\n",
      "5 * 7 = 35\n",
      "5 * 8 = 40\n",
      "5 * 9 = 45\n",
      "5 * 10 = 50\n",
      "\n",
      "6 * 1 = 6\n",
      "6 * 2 = 12\n",
      "6 * 3 = 18\n",
      "6 * 4 = 24\n",
      "6 * 5 = 30\n",
      "6 * 6 = 36\n",
      "6 * 7 = 42\n",
      "6 * 8 = 48\n",
      "6 * 9 = 54\n",
      "6 * 10 = 60\n",
      "\n",
      "7 * 1 = 7\n",
      "7 * 2 = 14\n",
      "7 * 3 = 21\n",
      "7 * 4 = 28\n",
      "7 * 5 = 35\n",
      "7 * 6 = 42\n",
      "7 * 7 = 49\n",
      "7 * 8 = 56\n",
      "7 * 9 = 63\n",
      "7 * 10 = 70\n",
      "\n",
      "8 * 1 = 8\n",
      "8 * 2 = 16\n",
      "8 * 3 = 24\n",
      "8 * 4 = 32\n",
      "8 * 5 = 40\n",
      "8 * 6 = 48\n",
      "8 * 7 = 56\n",
      "8 * 8 = 64\n",
      "8 * 9 = 72\n",
      "8 * 10 = 80\n",
      "\n",
      "9 * 1 = 9\n",
      "9 * 2 = 18\n",
      "9 * 3 = 27\n",
      "9 * 4 = 36\n",
      "9 * 5 = 45\n",
      "9 * 6 = 54\n",
      "9 * 7 = 63\n",
      "9 * 8 = 72\n",
      "9 * 9 = 81\n",
      "9 * 10 = 90\n",
      "\n",
      "10 * 1 = 10\n",
      "10 * 2 = 20\n",
      "10 * 3 = 30\n",
      "10 * 4 = 40\n",
      "10 * 5 = 50\n",
      "10 * 6 = 60\n",
      "10 * 7 = 70\n",
      "10 * 8 = 80\n",
      "10 * 9 = 90\n",
      "10 * 10 = 100\n",
      "\n"
     ]
    }
   ],
   "source": [
    "# Nested loop to print the multiplication table from 1 to 10\n",
    "for i in range(1, 11):  # Outer loop for the multiplicand\n",
    "    for j in range(1, 11):  # Inner loop for the multiplier\n",
    "        product = i * j\n",
    "        print(f\"{i} * {j} = {product}\")\n",
    "    print()  # Add a newline after each complete multiplication table\n"
   ]
  },
  {
   "cell_type": "code",
   "execution_count": 70,
   "id": "95efff18",
   "metadata": {},
   "outputs": [],
   "source": [
    "# 31. Print Patterns: Write a Python program using nested loops to print the following pattern:"
   ]
  },
  {
   "cell_type": "code",
   "execution_count": 71,
   "id": "f4e91c88",
   "metadata": {},
   "outputs": [
    {
     "name": "stdout",
     "output_type": "stream",
     "text": [
      "*\n",
      "**\n",
      "***\n",
      "****\n",
      "*****\n"
     ]
    }
   ],
   "source": [
    "# Nested loops to print the pattern\n",
    "for i in range(1, 6):  # Outer loop for the number of rows\n",
    "    for j in range(i):  # Inner loop for printing '*' based on the current row number\n",
    "        print(\"*\", end=\"\")\n",
    "    print()  # Move to the next line after printing each row\n"
   ]
  },
  {
   "cell_type": "code",
   "execution_count": 72,
   "id": "8f0f98e1",
   "metadata": {},
   "outputs": [],
   "source": [
    "# 32. Matrix Multiplication: Write a Python program using nested loops to multiply two matrices"
   ]
  },
  {
   "cell_type": "code",
   "execution_count": 73,
   "id": "4478baeb",
   "metadata": {},
   "outputs": [
    {
     "name": "stdout",
     "output_type": "stream",
     "text": [
      "Result of Matrix Multiplication:\n",
      "[30, 24, 18]\n",
      "[84, 69, 54]\n",
      "[138, 114, 90]\n"
     ]
    }
   ],
   "source": [
    "# Define the matrices\n",
    "matrix1 = [[1, 2, 3],\n",
    "           [4, 5, 6],\n",
    "           [7, 8, 9]]\n",
    "\n",
    "matrix2 = [[9, 8, 7],\n",
    "           [6, 5, 4],\n",
    "           [3, 2, 1]]\n",
    "\n",
    "# Initialize the result matrix with zeros\n",
    "result = [[0, 0, 0],\n",
    "          [0, 0, 0],\n",
    "          [0, 0, 0]]\n",
    "\n",
    "# Perform matrix multiplication using nested loops\n",
    "for i in range(len(matrix1)):\n",
    "    for j in range(len(matrix2[0])):\n",
    "        for k in range(len(matrix2)):\n",
    "            result[i][j] += matrix1[i][k] * matrix2[k][j]\n",
    "\n",
    "# Print the result matrix\n",
    "print(\"Result of Matrix Multiplication:\")\n",
    "for row in result:\n",
    "    print(row)\n",
    "\n",
    "    "
   ]
  },
  {
   "cell_type": "code",
   "execution_count": 74,
   "id": "dec0934c",
   "metadata": {},
   "outputs": [],
   "source": [
    "# 33. Chessboard Pattern: Write a Python program using nested loops to print a chessboard pattern (alternating “X” and “O” characters) of size 8×8.34. Number Pyramid: Write a Python program using nested loops to print a number pyramid like the following: 1 22 333 4444 5555"
   ]
  },
  {
   "cell_type": "code",
   "execution_count": 75,
   "id": "22d9fe71",
   "metadata": {},
   "outputs": [
    {
     "name": "stdout",
     "output_type": "stream",
     "text": [
      "X O X O X O X O \n",
      "O X O X O X O X \n",
      "X O X O X O X O \n",
      "O X O X O X O X \n",
      "X O X O X O X O \n",
      "O X O X O X O X \n",
      "X O X O X O X O \n",
      "O X O X O X O X \n"
     ]
    }
   ],
   "source": [
    "# Define the size of the chessboard\n",
    "size = 8\n",
    "\n",
    "# Nested loops to print the chessboard pattern\n",
    "for i in range(size):\n",
    "    for j in range(size):\n",
    "        # Check if the sum of row index and column index is even\n",
    "        if (i + j) % 2 == 0:\n",
    "            print(\"X\", end=\" \")\n",
    "        else:\n",
    "            print(\"O\", end=\" \")\n",
    "    print()  # Move to the next line after printing each row\n"
   ]
  },
  {
   "cell_type": "code",
   "execution_count": 76,
   "id": "5edfb24d",
   "metadata": {},
   "outputs": [
    {
     "name": "stdout",
     "output_type": "stream",
     "text": [
      "1 \n",
      "2 2 \n",
      "3 3 3 \n",
      "4 4 4 4 \n",
      "5 5 5 5 5 \n"
     ]
    }
   ],
   "source": [
    "# Define the number of rows for the pyramid\n",
    "rows = 5\n",
    "\n",
    "# Nested loops to print the number pyramid\n",
    "for i in range(1, rows + 1):\n",
    "    for j in range(i):\n",
    "        print(i, end=\" \")\n",
    "    print()  # Move to the next line after printing each row\n"
   ]
  },
  {
   "cell_type": "code",
   "execution_count": 77,
   "id": "86748a47",
   "metadata": {},
   "outputs": [],
   "source": [
    "# 34. List Sum: Write a Python program to find the sum of all elements in a given list of integers."
   ]
  },
  {
   "cell_type": "code",
   "execution_count": 78,
   "id": "a59eab2c",
   "metadata": {},
   "outputs": [
    {
     "name": "stdout",
     "output_type": "stream",
     "text": [
      "Sum of all elements in the list: 15\n"
     ]
    }
   ],
   "source": [
    "# Given list of integers\n",
    "numbers = [1, 2, 3, 4, 5]\n",
    "\n",
    "# Initialize variable to store the sum\n",
    "total_sum = 0\n",
    "\n",
    "# Calculate the sum of all elements in the list\n",
    "for num in numbers:\n",
    "    total_sum += num\n",
    "\n",
    "# Print the sum\n",
    "print(\"Sum of all elements in the list:\", total_sum)\n"
   ]
  },
  {
   "cell_type": "code",
   "execution_count": 79,
   "id": "ed081b58",
   "metadata": {},
   "outputs": [],
   "source": [
    "# 35. List Average: Write a Python program to calculate the average of all elements in a given list of integers."
   ]
  },
  {
   "cell_type": "code",
   "execution_count": 80,
   "id": "e45ce821",
   "metadata": {},
   "outputs": [
    {
     "name": "stdout",
     "output_type": "stream",
     "text": [
      "Average of all elements in the list: 3.0\n"
     ]
    }
   ],
   "source": [
    "# Given list of integers\n",
    "numbers = [1, 2, 3, 4, 5]\n",
    "\n",
    "# Calculate the sum of all elements in the list\n",
    "total_sum = sum(numbers)\n",
    "\n",
    "# Calculate the average\n",
    "average = total_sum / len(numbers)\n",
    "\n",
    "# Print the average\n",
    "print(\"Average of all elements in the list:\", average)\n"
   ]
  },
  {
   "cell_type": "code",
   "execution_count": 81,
   "id": "8df93859",
   "metadata": {},
   "outputs": [],
   "source": [
    "# 36. List Max and Min: Write a Python program to find the maximum and minimum values in a given list of integers."
   ]
  },
  {
   "cell_type": "code",
   "execution_count": 82,
   "id": "196dfa0f",
   "metadata": {},
   "outputs": [
    {
     "name": "stdout",
     "output_type": "stream",
     "text": [
      "Maximum value in the list: 9\n",
      "Minimum value in the list: 1\n"
     ]
    }
   ],
   "source": [
    "# Given list of integers\n",
    "numbers = [5, 2, 7, 1, 9, 3]\n",
    "\n",
    "# Find the maximum and minimum values\n",
    "maximum = max(numbers)\n",
    "minimum = min(numbers)\n",
    "\n",
    "# Print the maximum and minimum values\n",
    "print(\"Maximum value in the list:\", maximum)\n",
    "print(\"Minimum value in the list:\", minimum)\n"
   ]
  },
  {
   "cell_type": "code",
   "execution_count": 83,
   "id": "fc1c6094",
   "metadata": {},
   "outputs": [],
   "source": [
    "# 37. List Sorting: Write a Python program to sort a list of integers in ascending order."
   ]
  },
  {
   "cell_type": "code",
   "execution_count": 84,
   "id": "6037ffa1",
   "metadata": {},
   "outputs": [
    {
     "name": "stdout",
     "output_type": "stream",
     "text": [
      "Sorted list in ascending order: [1, 2, 3, 5, 7, 9]\n"
     ]
    }
   ],
   "source": [
    "# Given list of integers\n",
    "numbers = [5, 2, 7, 1, 9, 3]\n",
    "\n",
    "# Sort the list in ascending order\n",
    "sorted_numbers = sorted(numbers)\n",
    "\n",
    "# Print the sorted list\n",
    "print(\"Sorted list in ascending order:\", sorted_numbers)"
   ]
  },
  {
   "cell_type": "code",
   "execution_count": 85,
   "id": "30bec96c",
   "metadata": {},
   "outputs": [],
   "source": [
    "# 38. List Filtering: Given a list of integers, write a Python program to create a new list that contains only the even numbers from the original list."
   ]
  },
  {
   "cell_type": "code",
   "execution_count": 86,
   "id": "e6fa8840",
   "metadata": {},
   "outputs": [
    {
     "name": "stdout",
     "output_type": "stream",
     "text": [
      "Even numbers from the original list: [2, 4, 6, 8, 10]\n"
     ]
    }
   ],
   "source": [
    "# Given list of integers\n",
    "numbers = [1, 2, 3, 4, 5, 6, 7, 8, 9, 10]\n",
    "\n",
    "# Create a new list containing only the even numbers\n",
    "even_numbers = [num for num in numbers if num % 2 == 0]\n",
    "\n",
    "# Print the new list containing even numbers\n",
    "print(\"Even numbers from the original list:\", even_numbers)\n"
   ]
  },
  {
   "cell_type": "code",
   "execution_count": 87,
   "id": "9fcaa498",
   "metadata": {},
   "outputs": [],
   "source": [
    "# 39. List Reversal: Write a Python program to reverse a given list without using any built-in functions."
   ]
  },
  {
   "cell_type": "code",
   "execution_count": 88,
   "id": "cc8606fc",
   "metadata": {},
   "outputs": [
    {
     "name": "stdout",
     "output_type": "stream",
     "text": [
      "Reversed list: [5, 4, 3, 2, 1]\n"
     ]
    }
   ],
   "source": [
    "# Given list\n",
    "original_list = [1, 2, 3, 4, 5]\n",
    "\n",
    "# Initialize empty list to store reversed elements\n",
    "reversed_list = []\n",
    "\n",
    "# Iterate over the original list in reverse order and append elements to the reversed list\n",
    "for i in range(len(original_list) - 1, -1, -1):\n",
    "    reversed_list.append(original_list[i])\n",
    "\n",
    "# Print the reversed list\n",
    "print(\"Reversed list:\", reversed_list)\n"
   ]
  },
  {
   "cell_type": "code",
   "execution_count": 89,
   "id": "c0b33508",
   "metadata": {},
   "outputs": [],
   "source": [
    "# 40. List Manipulation: Given two lists of integers, write a Python program to create a new list that contains elements common to both lists."
   ]
  },
  {
   "cell_type": "code",
   "execution_count": 90,
   "id": "56a5f7c2",
   "metadata": {},
   "outputs": [
    {
     "name": "stdout",
     "output_type": "stream",
     "text": [
      "Common elements: [4, 5]\n"
     ]
    }
   ],
   "source": [
    "# Given lists of integers\n",
    "list1 = [1, 2, 3, 4, 5]\n",
    "list2 = [4, 5, 6, 7, 8]\n",
    "\n",
    "# Create a new list containing elements common to both lists\n",
    "common_elements = [num for num in list1 if num in list2]\n",
    "\n",
    "# Print the new list containing common elements\n",
    "print(\"Common elements:\", common_elements)\n",
    "\n"
   ]
  },
  {
   "cell_type": "code",
   "execution_count": 91,
   "id": "28b03815",
   "metadata": {},
   "outputs": [],
   "source": [
    "# 41. List Element Count: Write a Python program to count the occurrences of a specific element in a given list."
   ]
  },
  {
   "cell_type": "code",
   "execution_count": 92,
   "id": "1ccfa747",
   "metadata": {},
   "outputs": [
    {
     "name": "stdout",
     "output_type": "stream",
     "text": [
      "Count of 1 : 3\n"
     ]
    }
   ],
   "source": [
    "# Given list\n",
    "my_list = [1, 2, 3, 4, 5, 1, 2, 3, 4, 1]\n",
    "\n",
    "# Element to count\n",
    "element_to_count = 1\n",
    "\n",
    "# Count the occurrences of the element in the list\n",
    "count = 0\n",
    "for num in my_list:\n",
    "    if num == element_to_count:\n",
    "        count += 1\n",
    "\n",
    "# Print the count of occurrences\n",
    "print(\"Count of\", element_to_count, \":\", count)\n"
   ]
  },
  {
   "cell_type": "code",
   "execution_count": 93,
   "id": "b9b33d6d",
   "metadata": {},
   "outputs": [],
   "source": [
    "# 42. List Duplicates Removal: Write a Python program to remove duplicates from a given list while preserving the order of the elements."
   ]
  },
  {
   "cell_type": "code",
   "execution_count": 94,
   "id": "895e2845",
   "metadata": {},
   "outputs": [
    {
     "name": "stdout",
     "output_type": "stream",
     "text": [
      "List after removing duplicates: [1, 2, 3, 4, 5, 6]\n"
     ]
    }
   ],
   "source": [
    "# Given list with duplicates\n",
    "my_list = [1, 2, 3, 1, 4, 2, 5, 6, 3]\n",
    "\n",
    "# Initialize an empty list to store unique elements\n",
    "unique_list = []\n",
    "\n",
    "# Iterate through the original list\n",
    "for num in my_list:\n",
    "    # If the element is not already in the unique_list, add it\n",
    "    if num not in unique_list:\n",
    "        unique_list.append(num)\n",
    "\n",
    "# Print the list without duplicates\n",
    "print(\"List after removing duplicates:\", unique_list)\n"
   ]
  },
  {
   "cell_type": "code",
   "execution_count": 95,
   "id": "eb05062b",
   "metadata": {},
   "outputs": [],
   "source": [
    "# 43. List Comprehension: Given a list of integers, write a Python program to create a new list that contains the squares of the elements using list comprehension."
   ]
  },
  {
   "cell_type": "code",
   "execution_count": 96,
   "id": "4a943f15",
   "metadata": {},
   "outputs": [
    {
     "name": "stdout",
     "output_type": "stream",
     "text": [
      "New list containing squares of elements: [1, 4, 9, 16, 25]\n"
     ]
    }
   ],
   "source": [
    "# Given list of integers\n",
    "original_list = [1, 2, 3, 4, 5]\n",
    "\n",
    "# List comprehension to create a new list containing squares of elements\n",
    "squared_list = [num ** 2 for num in original_list]\n",
    "\n",
    "# Print the new list containing squares of elements\n",
    "print(\"New list containing squares of elements:\", squared_list)\n"
   ]
  },
  {
   "cell_type": "code",
   "execution_count": null,
   "id": "1c82966a",
   "metadata": {},
   "outputs": [],
   "source": []
  }
 ],
 "metadata": {
  "kernelspec": {
   "display_name": "Python 3 (ipykernel)",
   "language": "python",
   "name": "python3"
  },
  "language_info": {
   "codemirror_mode": {
    "name": "ipython",
    "version": 3
   },
   "file_extension": ".py",
   "mimetype": "text/x-python",
   "name": "python",
   "nbconvert_exporter": "python",
   "pygments_lexer": "ipython3",
   "version": "3.11.5"
  }
 },
 "nbformat": 4,
 "nbformat_minor": 5
}
