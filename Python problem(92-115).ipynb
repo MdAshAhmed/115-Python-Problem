{
 "cells": [
  {
   "cell_type": "code",
   "execution_count": 1,
   "id": "c28cd589",
   "metadata": {},
   "outputs": [],
   "source": [
    "# 92. Prime Number Checker: Write a Python program that takes a number as input and determines if it is a prime number or not. Use a `for` loop to check for factors. If a factor is found, `break` out of the loop"
   ]
  },
  {
   "cell_type": "code",
   "execution_count": 2,
   "id": "6493d450",
   "metadata": {},
   "outputs": [
    {
     "name": "stdout",
     "output_type": "stream",
     "text": [
      "Enter a number: 23\n",
      "23 is a prime number\n"
     ]
    }
   ],
   "source": [
    "# Input number\n",
    "num = int(input(\"Enter a number: \"))\n",
    "\n",
    "# Check if the number is prime\n",
    "is_prime = True\n",
    "\n",
    "if num > 1:\n",
    "    # Iterate from 2 to num - 1 to check for factors\n",
    "    for i in range(2, num):\n",
    "        if num % i == 0:\n",
    "            # If a factor is found, the number is not prime\n",
    "            is_prime = False\n",
    "            break\n",
    "\n",
    "# Print the result\n",
    "if is_prime and num > 1:\n",
    "    print(num, \"is a prime number\")\n",
    "else:\n",
    "    print(num, \"is not a prime number\")\n",
    "\n",
    "    "
   ]
  },
  {
   "cell_type": "code",
   "execution_count": 3,
   "id": "fd075395",
   "metadata": {},
   "outputs": [],
   "source": [
    "# 93. Even Number Printer: Write a Python program to print all even numbers from 1 to 20. Use a `for` loop and `continue` to skip odd numbers."
   ]
  },
  {
   "cell_type": "code",
   "execution_count": 4,
   "id": "9af1befd",
   "metadata": {},
   "outputs": [
    {
     "name": "stdout",
     "output_type": "stream",
     "text": [
      "Even numbers from 1 to 20:\n",
      "2\n",
      "4\n",
      "6\n",
      "8\n",
      "10\n",
      "12\n",
      "14\n",
      "16\n",
      "18\n",
      "20\n"
     ]
    }
   ],
   "source": [
    "# Print even numbers from 1 to 20 using a for loop and continue\n",
    "print(\"Even numbers from 1 to 20:\")\n",
    "for num in range(1, 21):\n",
    "    if num % 2 != 0:  # Skip odd numbers\n",
    "        continue\n",
    "    print(num)"
   ]
  },
  {
   "cell_type": "code",
   "execution_count": 5,
   "id": "d4361af0",
   "metadata": {},
   "outputs": [],
   "source": [
    "# 94. Password Validator: Write a Python program that takes a password as input and checks if it meets the following criteria: at least 8 characters long, contains both uppercase and lowercase letters, and has at least one digit. If the password is valid, print “Password accepted.” If not, use `continue` to prompt the user to enter a valid password."
   ]
  },
  {
   "cell_type": "code",
   "execution_count": 6,
   "id": "b37a3ef5",
   "metadata": {},
   "outputs": [
    {
     "name": "stdout",
     "output_type": "stream",
     "text": [
      "Enter a password: ash\n",
      "Password must be at least 8 characters long.\n",
      "Enter a password: ashik930\n",
      "Password must contain at least one uppercase letter.\n",
      "Enter a password: Ashik12345\n",
      "Password accepted.\n"
     ]
    }
   ],
   "source": [
    "while True:\n",
    "    # Input password\n",
    "    password = input(\"Enter a password: \")\n",
    "\n",
    "    # Check password criteria\n",
    "    if len(password) < 8:\n",
    "        print(\"Password must be at least 8 characters long.\")\n",
    "        continue\n",
    "    if not any(char.isupper() for char in password):\n",
    "        print(\"Password must contain at least one uppercase letter.\")\n",
    "        continue\n",
    "    if not any(char.islower() for char in password):\n",
    "        print(\"Password must contain at least one lowercase letter.\")\n",
    "        continue\n",
    "    if not any(char.isdigit() for char in password):\n",
    "        print(\"Password must contain at least one digit.\")\n",
    "        continue\n",
    "\n",
    "    # If all criteria are met, print \"Password accepted\" and break the loop\n",
    "    print(\"Password accepted.\")\n",
    "    break\n"
   ]
  },
  {
   "cell_type": "code",
   "execution_count": 7,
   "id": "17890d1e",
   "metadata": {},
   "outputs": [],
   "source": [
    "# 95. Divisible by 3 or 5: Write a Python program to print all numbers from 1 to 50 that are divisible by either 3 or 5. Use a `for` loop and `continue` to skip numbers that are not divisible by either 3 or 5."
   ]
  },
  {
   "cell_type": "code",
   "execution_count": 8,
   "id": "0ccc7a3a",
   "metadata": {},
   "outputs": [
    {
     "name": "stdout",
     "output_type": "stream",
     "text": [
      "Numbers from 1 to 50 divisible by either 3 or 5:\n",
      "3\n",
      "5\n",
      "6\n",
      "9\n",
      "10\n",
      "12\n",
      "15\n",
      "18\n",
      "20\n",
      "21\n",
      "24\n",
      "25\n",
      "27\n",
      "30\n",
      "33\n",
      "35\n",
      "36\n",
      "39\n",
      "40\n",
      "42\n",
      "45\n",
      "48\n",
      "50\n"
     ]
    }
   ],
   "source": [
    "# Print numbers from 1 to 50 that are divisible by either 3 or 5 using a for loop and continue\n",
    "print(\"Numbers from 1 to 50 divisible by either 3 or 5:\")\n",
    "for num in range(1, 51):\n",
    "    if num % 3 != 0 and num % 5 != 0:  # Skip numbers not divisible by either 3 or 5\n",
    "        continue\n",
    "    print(num)\n"
   ]
  },
  {
   "cell_type": "code",
   "execution_count": 9,
   "id": "547bf061",
   "metadata": {},
   "outputs": [],
   "source": [
    "# 96. Positive Number Sum: Write a Python program that takes positive numbers as input until a negative number is entered. Then, calculate and print the sum of all positive numbers entered. Use a `while` loop and `break` to exit the loop when a negative number is encountered."
   ]
  },
  {
   "cell_type": "code",
   "execution_count": 11,
   "id": "aaa16dbd",
   "metadata": {},
   "outputs": [
    {
     "name": "stdout",
     "output_type": "stream",
     "text": [
      "Enter a positive number (enter a negative number to exit): 2\n",
      "Enter a positive number (enter a negative number to exit): -9\n",
      "Sum of positive numbers entered: 2.0\n"
     ]
    }
   ],
   "source": [
    "# Initialize variables\n",
    "total_sum = 0\n",
    "\n",
    "# Take input until a negative number is entered\n",
    "while True:\n",
    "    num = float(input(\"Enter a positive number (enter a negative number to exit): \"))\n",
    "    if num < 0:\n",
    "        break\n",
    "    total_sum += num\n",
    "\n",
    "# Print the sum of positive numbers\n",
    "print(\"Sum of positive numbers entered:\", total_sum)\n"
   ]
  },
  {
   "cell_type": "code",
   "execution_count": 12,
   "id": "2ddeeb26",
   "metadata": {},
   "outputs": [],
   "source": [
    "# 97. Word Palindrome Checker: Write a Python program that takes a word as input and checks if it is a palindrome (reads the same forwards and backward). Use `continue` to skip checking the word if its length is less than 3 characters."
   ]
  },
  {
   "cell_type": "code",
   "execution_count": 13,
   "id": "75255acd",
   "metadata": {},
   "outputs": [
    {
     "name": "stdout",
     "output_type": "stream",
     "text": [
      "Enter a word: asq\n",
      "asq is not a palindrome.\n"
     ]
    }
   ],
   "source": [
    "# Take input word\n",
    "word = input(\"Enter a word: \")\n",
    "\n",
    "# Check if the word is a palindrome\n",
    "if len(word) < 3:\n",
    "    print(\"Word length must be at least 3 characters.\")\n",
    "else:\n",
    "    if word == word[::-1]:\n",
    "        print(word, \"is a palindrome.\")\n",
    "    else:\n",
    "        print(word, \"is not a palindrome.\")\n"
   ]
  },
  {
   "cell_type": "code",
   "execution_count": 14,
   "id": "64d985d2",
   "metadata": {},
   "outputs": [],
   "source": [
    "# 98. Odd Number Finder: Write a Python program to find the first odd number from a list of integers. Use a `for` loop and `break` to stop the loop when the first odd number is found."
   ]
  },
  {
   "cell_type": "code",
   "execution_count": 15,
   "id": "476581d1",
   "metadata": {},
   "outputs": [
    {
     "name": "stdout",
     "output_type": "stream",
     "text": [
      "First odd number found: 35\n"
     ]
    }
   ],
   "source": [
    "# List of integers\n",
    "numbers = [10, 20, 35, 48, 51, 62, 73, 84]\n",
    "\n",
    "# Find the first odd number\n",
    "for num in numbers:\n",
    "    if num % 2 != 0:  # Check if the number is odd\n",
    "        print(\"First odd number found:\", num)\n",
    "        break\n"
   ]
  },
  {
   "cell_type": "code",
   "execution_count": 16,
   "id": "31009c32",
   "metadata": {},
   "outputs": [],
   "source": [
    "# 99. Number Guessing Game: Write a Python program that generates a random number between 1 and 100 and lets the user guess the number. Use a `while` loop, `break` when the correct number is guessed, and `continue` to keep prompting the user until they guess correctly."
   ]
  },
  {
   "cell_type": "code",
   "execution_count": 17,
   "id": "3e36f6a6",
   "metadata": {},
   "outputs": [
    {
     "name": "stdout",
     "output_type": "stream",
     "text": [
      "Guess the number between 1 and 100: 23\n",
      "Too low! Try again.\n",
      "Guess the number between 1 and 100: 67\n",
      "Too low! Try again.\n",
      "Guess the number between 1 and 100: 77\n",
      "Too high! Try again.\n",
      "Guess the number between 1 and 100: 70\n",
      "Too low! Try again.\n",
      "Guess the number between 1 and 100: 73\n",
      "Too low! Try again.\n",
      "Guess the number between 1 and 100: 74\n",
      "Too low! Try again.\n",
      "Guess the number between 1 and 100: 75\n",
      "Congratulations! You guessed the correct number: 75\n"
     ]
    }
   ],
   "source": [
    "import random\n",
    "\n",
    "# Generate a random number between 1 and 100\n",
    "target_number = random.randint(1, 100)\n",
    "\n",
    "# Game loop\n",
    "while True:\n",
    "    # Prompt the user to guess the number\n",
    "    guess = int(input(\"Guess the number between 1 and 100: \"))\n",
    "\n",
    "    # Check if the guess is correct\n",
    "    if guess == target_number:\n",
    "        print(\"Congratulations! You guessed the correct number:\", target_number)\n",
    "        break  # Exit the loop if the guess is correct\n",
    "    elif guess < target_number:\n",
    "        print(\"Too low! Try again.\")\n",
    "        continue  # Prompt the user to guess again\n",
    "    else:\n",
    "        print(\"Too high! Try again.\")\n",
    "        continue  # Prompt the user to guess again\n"
   ]
  },
  {
   "cell_type": "code",
   "execution_count": 18,
   "id": "82b4cddb",
   "metadata": {},
   "outputs": [],
   "source": [
    "# 100. Vowel Counter: Write a Python program that takes a string as input and counts the number of vowels (a, e, i, o, u) in it. Use a `for` loop and `continue` to skip counting non-vowel characters."
   ]
  },
  {
   "cell_type": "code",
   "execution_count": 19,
   "id": "57aa7b84",
   "metadata": {},
   "outputs": [
    {
     "name": "stdout",
     "output_type": "stream",
     "text": [
      "Enter a string: asf\n",
      "Number of vowels in the string: 1\n"
     ]
    }
   ],
   "source": [
    "# Take input string\n",
    "input_string = input(\"Enter a string: \")\n",
    "\n",
    "# Initialize vowel counter\n",
    "vowel_count = 0\n",
    "\n",
    "# Count vowels in the input string\n",
    "for char in input_string:\n",
    "    if char.lower() not in 'aeiou':  # Skip non-vowel characters\n",
    "        continue\n",
    "    vowel_count += 1\n",
    "\n",
    "# Print the number of vowels\n",
    "print(\"Number of vowels in the string:\", vowel_count)\n"
   ]
  },
  {
   "cell_type": "code",
   "execution_count": 20,
   "id": "68df8684",
   "metadata": {},
   "outputs": [],
   "source": [
    "# 101. Unique Characters: Write a Python program that takes a string as input and checks if it contains all unique characters (no character repeats). Use a `for` loop and `break` when a character repeats."
   ]
  },
  {
   "cell_type": "code",
   "execution_count": 21,
   "id": "3c955dd7",
   "metadata": {},
   "outputs": [
    {
     "name": "stdout",
     "output_type": "stream",
     "text": [
      "Enter a string: ash\n",
      "The string contains all unique characters.\n"
     ]
    }
   ],
   "source": [
    "# Take input string\n",
    "input_string = input(\"Enter a string: \")\n",
    "\n",
    "# Initialize a flag variable to track uniqueness\n",
    "unique = True\n",
    "\n",
    "# Check for unique characters\n",
    "for char in input_string:\n",
    "    if input_string.count(char) > 1:  # Check if the character repeats\n",
    "        unique = False\n",
    "        break\n",
    "\n",
    "# Print the result\n",
    "if unique:\n",
    "    print(\"The string contains all unique characters.\")\n",
    "else:\n",
    "    print(\"The string does not contain all unique characters.\")\n"
   ]
  },
  {
   "cell_type": "code",
   "execution_count": 22,
   "id": "5056fcf9",
   "metadata": {},
   "outputs": [],
   "source": [
    "# 102. Factorial Calculator: Write a Python function called `factorial` that takes an integer as input and returns its factorial. Test the function with different values."
   ]
  },
  {
   "cell_type": "code",
   "execution_count": 23,
   "id": "1ca48521",
   "metadata": {},
   "outputs": [
    {
     "name": "stdout",
     "output_type": "stream",
     "text": [
      "Factorial of 5: 120\n",
      "Factorial of 0: 1\n",
      "Factorial of 10: 3628800\n"
     ]
    }
   ],
   "source": [
    "def factorial(n):\n",
    "    if n == 0:\n",
    "        return 1\n",
    "    result = 1\n",
    "    for i in range(1, n + 1):\n",
    "        result *= i\n",
    "    return result\n",
    "\n",
    "# Test the function with different values\n",
    "print(\"Factorial of 5:\", factorial(5))\n",
    "print(\"Factorial of 0:\", factorial(0))\n",
    "print(\"Factorial of 10:\", factorial(10))\n"
   ]
  },
  {
   "cell_type": "code",
   "execution_count": 24,
   "id": "31ca82fc",
   "metadata": {},
   "outputs": [],
   "source": [
    "# 103. Palindrome Checker: Write a Python function called `is_palindrome` that takes a string as input and returns `True` if it is a palindrome and `False` otherwise. Test the function with different words."
   ]
  },
  {
   "cell_type": "code",
   "execution_count": 25,
   "id": "8a585d86",
   "metadata": {},
   "outputs": [
    {
     "name": "stdout",
     "output_type": "stream",
     "text": [
      "Is 'radar' a palindrome? True\n",
      "Is 'hello' a palindrome? False\n",
      "Is 'A man a plan a canal Panama' a palindrome? True\n"
     ]
    }
   ],
   "source": [
    "def is_palindrome(s):\n",
    "    # Convert the string to lowercase and remove spaces\n",
    "    s = s.lower().replace(\" \", \"\")\n",
    "    # Check if the string is equal to its reverse\n",
    "    return s == s[::-1]\n",
    "\n",
    "# Test the function with different words\n",
    "print(\"Is 'radar' a palindrome?\", is_palindrome(\"radar\"))\n",
    "print(\"Is 'hello' a palindrome?\", is_palindrome(\"hello\"))\n",
    "print(\"Is 'A man a plan a canal Panama' a palindrome?\", is_palindrome(\"A man a plan a canal Panama\"))\n"
   ]
  },
  {
   "cell_type": "code",
   "execution_count": 26,
   "id": "cc89b4e1",
   "metadata": {},
   "outputs": [],
   "source": [
    "# 104. Even or Odd Checker: Write a Python function called `even_or_odd` that takes an integer as input and returns “Even” if the number is even and “Odd” if the number is odd. Test the function with different numbers."
   ]
  },
  {
   "cell_type": "code",
   "execution_count": 27,
   "id": "8cf2c2fc",
   "metadata": {},
   "outputs": [
    {
     "name": "stdout",
     "output_type": "stream",
     "text": [
      "Is 5 even or odd? Odd\n",
      "Is 10 even or odd? Even\n",
      "Is -3 even or odd? Odd\n"
     ]
    }
   ],
   "source": [
    "def even_or_odd(num):\n",
    "    if num % 2 == 0:\n",
    "        return \"Even\"\n",
    "    else:\n",
    "        return \"Odd\"\n",
    "\n",
    "# Test the function with different numbers\n",
    "print(\"Is 5 even or odd?\", even_or_odd(5))\n",
    "print(\"Is 10 even or odd?\", even_or_odd(10))\n",
    "print(\"Is -3 even or odd?\", even_or_odd(-3))\n"
   ]
  },
  {
   "cell_type": "code",
   "execution_count": 28,
   "id": "4b6c7364",
   "metadata": {},
   "outputs": [],
   "source": [
    "# 105. List Sum Calculator: Write a Python function called `list_sum` that takes a list of integers as input and returns the sum of all elements in the list. Test the function with different lists."
   ]
  },
  {
   "cell_type": "code",
   "execution_count": 29,
   "id": "0db68251",
   "metadata": {},
   "outputs": [
    {
     "name": "stdout",
     "output_type": "stream",
     "text": [
      "Sum of [1, 2, 3, 4, 5]: 15\n",
      "Sum of [10, -20, 30, -40, 50]: 30\n",
      "Sum of an empty list: 0\n"
     ]
    }
   ],
   "source": [
    "def list_sum(lst):\n",
    "    return sum(lst)\n",
    "\n",
    "# Test the function with different lists\n",
    "print(\"Sum of [1, 2, 3, 4, 5]:\", list_sum([1, 2, 3, 4, 5]))\n",
    "print(\"Sum of [10, -20, 30, -40, 50]:\", list_sum([10, -20, 30, -40, 50]))\n",
    "print(\"Sum of an empty list:\", list_sum([]))\n"
   ]
  },
  {
   "cell_type": "code",
   "execution_count": 30,
   "id": "ab3ffbed",
   "metadata": {},
   "outputs": [],
   "source": [
    "# 106. Greatest Common Divisor (GCD) Calculator: Write a Python function called `gcd` that takes two integers as input and returns their greatest common divisor. Test the function with different pairs of numbers."
   ]
  },
  {
   "cell_type": "code",
   "execution_count": 31,
   "id": "1efb3593",
   "metadata": {},
   "outputs": [
    {
     "name": "stdout",
     "output_type": "stream",
     "text": [
      "GCD of 12 and 18: 6\n",
      "GCD of 15 and 25: 5\n",
      "GCD of 60 and 48: 12\n"
     ]
    }
   ],
   "source": [
    "def gcd(a, b):\n",
    "    while b:\n",
    "        a, b = b, a % b\n",
    "    return a\n",
    "\n",
    "# Test the function with different pairs of numbers\n",
    "print(\"GCD of 12 and 18:\", gcd(12, 18))\n",
    "print(\"GCD of 15 and 25:\", gcd(15, 25))\n",
    "print(\"GCD of 60 and 48:\", gcd(60, 48))\n"
   ]
  },
  {
   "cell_type": "code",
   "execution_count": 32,
   "id": "af7fd018",
   "metadata": {},
   "outputs": [],
   "source": [
    "# 107. Leap Year Checker: Write a Python function called `is_leap_year` that takes a year as input and returns `True` if it is a leap year and `False` otherwise. Test the function with different years."
   ]
  },
  {
   "cell_type": "code",
   "execution_count": 33,
   "id": "90f3de62",
   "metadata": {},
   "outputs": [
    {
     "name": "stdout",
     "output_type": "stream",
     "text": [
      "Is 2020 a leap year? True\n",
      "Is 2021 a leap year? False\n",
      "Is 2000 a leap year? True\n",
      "Is 1900 a leap year? False\n"
     ]
    }
   ],
   "source": [
    "def is_leap_year(year):\n",
    "    if year % 4 == 0:\n",
    "        if year % 100 == 0:\n",
    "            if year % 400 == 0:\n",
    "                return True\n",
    "            else:\n",
    "                return False\n",
    "        else:\n",
    "            return True\n",
    "    else:\n",
    "        return False\n",
    "\n",
    "# Test the function with different years\n",
    "print(\"Is 2020 a leap year?\", is_leap_year(2020))\n",
    "print(\"Is 2021 a leap year?\", is_leap_year(2021))\n",
    "print(\"Is 2000 a leap year?\", is_leap_year(2000))\n",
    "print(\"Is 1900 a leap year?\", is_leap_year(1900))\n"
   ]
  },
  {
   "cell_type": "code",
   "execution_count": 34,
   "id": "c27ecc34",
   "metadata": {},
   "outputs": [],
   "source": [
    "# 108. Math Operations: Write a Python function called `math_operations` that takes three numbers and a string representing an operation (‘add’, ‘subtract’, ‘multiply’, or ‘divide’). The function should return the result of the specified operation on the three numbers. Implement the math operations as nested functions."
   ]
  },
  {
   "cell_type": "code",
   "execution_count": 35,
   "id": "2b27d0f7",
   "metadata": {},
   "outputs": [
    {
     "name": "stdout",
     "output_type": "stream",
     "text": [
      "Result of addition: 17\n",
      "Result of subtraction: 3\n",
      "Result of multiplication: 100\n",
      "Result of division: 1.0\n",
      "Result of invalid operation: Invalid operation\n"
     ]
    }
   ],
   "source": [
    "def math_operations(num1, num2, num3, operation):\n",
    "    def add(a, b, c):\n",
    "        return a + b + c\n",
    "\n",
    "    def subtract(a, b, c):\n",
    "        return a - b - c\n",
    "\n",
    "    def multiply(a, b, c):\n",
    "        return a * b * c\n",
    "\n",
    "    def divide(a, b, c):\n",
    "        if b == 0 or c == 0:\n",
    "            return \"Cannot divide by zero\"\n",
    "        return a / b / c\n",
    "\n",
    "    if operation == 'add':\n",
    "        return add(num1, num2, num3)\n",
    "    elif operation == 'subtract':\n",
    "        return subtract(num1, num2, num3)\n",
    "    elif operation == 'multiply':\n",
    "        return multiply(num1, num2, num3)\n",
    "    elif operation == 'divide':\n",
    "        return divide(num1, num2, num3)\n",
    "    else:\n",
    "        return \"Invalid operation\"\n",
    "\n",
    "# Test the function with different operations and numbers\n",
    "print(\"Result of addition:\", math_operations(10, 5, 2, 'add'))\n",
    "print(\"Result of subtraction:\", math_operations(10, 5, 2, 'subtract'))\n",
    "print(\"Result of multiplication:\", math_operations(10, 5, 2, 'multiply'))\n",
    "print(\"Result of division:\", math_operations(10, 5, 2, 'divide'))\n",
    "print(\"Result of invalid operation:\", math_operations(10, 5, 2, 'invalid'))\n"
   ]
  },
  {
   "cell_type": "code",
   "execution_count": 36,
   "id": "31c0b589",
   "metadata": {},
   "outputs": [],
   "source": [
    "# 109. Greeting Generator: Write a Python function called `greeting_generator` that takes a name as input and returns a greeting message using nested functions. The greeting message should be customizable (e.g., “Hello, {name}! How are you today?”)."
   ]
  },
  {
   "cell_type": "code",
   "execution_count": 37,
   "id": "d82ea875",
   "metadata": {},
   "outputs": [
    {
     "name": "stdout",
     "output_type": "stream",
     "text": [
      "Hello, Alice! How are you today?\n",
      "Hello, Bob! How are you today?\n"
     ]
    }
   ],
   "source": [
    "def greeting_generator(name):\n",
    "    def greet():\n",
    "        return \"Hello, \" + name + \"! How are you today?\"\n",
    "\n",
    "    return greet()\n",
    "\n",
    "# Test the function with different names\n",
    "print(greeting_generator(\"Alice\"))\n",
    "print(greeting_generator(\"Bob\"))\n"
   ]
  },
  {
   "cell_type": "code",
   "execution_count": 38,
   "id": "77464d74",
   "metadata": {},
   "outputs": [],
   "source": [
    "# 110. Temperature Converter: Write a Python function called `temperature_converter` that takes a temperature value and a string representing the scale (‘C’ for Celsius or ‘F’ for Fahrenheit) as input. The function should convert the temperature from one scale to the other using nested functions and return the converted value."
   ]
  },
  {
   "cell_type": "code",
   "execution_count": 39,
   "id": "1130c7ab",
   "metadata": {},
   "outputs": [
    {
     "name": "stdout",
     "output_type": "stream",
     "text": [
      "Celsius to Fahrenheit: -17.77777777777778\n",
      "Fahrenheit to Celsius: 89.6\n",
      "Invalid scale: Invalid scale\n"
     ]
    }
   ],
   "source": [
    "def temperature_converter(temperature, scale):\n",
    "    def celsius_to_fahrenheit(temp):\n",
    "        return (temp * 9/5) + 32\n",
    "\n",
    "    def fahrenheit_to_celsius(temp):\n",
    "        return (temp - 32) * 5/9\n",
    "\n",
    "    if scale == 'C':\n",
    "        return fahrenheit_to_celsius(temperature)\n",
    "    elif scale == 'F':\n",
    "        return celsius_to_fahrenheit(temperature)\n",
    "    else:\n",
    "        return \"Invalid scale\"\n",
    "\n",
    "# Test the function with different temperature values and scales\n",
    "print(\"Celsius to Fahrenheit:\", temperature_converter(0, 'C'))\n",
    "print(\"Fahrenheit to Celsius:\", temperature_converter(32, 'F'))\n",
    "print(\"Invalid scale:\", temperature_converter(100, 'K'))\n"
   ]
  },
  {
   "cell_type": "code",
   "execution_count": 40,
   "id": "bc26554e",
   "metadata": {},
   "outputs": [],
   "source": [
    "# 111. Factorial Calculation: Write a recursive Python function called `factorial` that takes a non-negative integer as input and returns its factorial."
   ]
  },
  {
   "cell_type": "code",
   "execution_count": 41,
   "id": "76d181b1",
   "metadata": {},
   "outputs": [
    {
     "name": "stdout",
     "output_type": "stream",
     "text": [
      "Factorial of 0: 1\n",
      "Factorial of 5: 120\n",
      "Factorial of 10: 3628800\n"
     ]
    }
   ],
   "source": [
    "def factorial(n):\n",
    "    # Base case: factorial of 0 is 1\n",
    "    if n == 0:\n",
    "        return 1\n",
    "    # Recursive case: factorial of n is n multiplied by factorial of (n-1)\n",
    "    else:\n",
    "        return n * factorial(n - 1)\n",
    "\n",
    "# Test the function with different input values\n",
    "print(\"Factorial of 0:\", factorial(0))\n",
    "print(\"Factorial of 5:\", factorial(5))\n",
    "print(\"Factorial of 10:\", factorial(10))\n",
    "\n"
   ]
  },
  {
   "cell_type": "code",
   "execution_count": 42,
   "id": "869ac695",
   "metadata": {},
   "outputs": [],
   "source": [
    "# 112. Fibonacci Series: Write a recursive Python function called `Fibonacci` that takes an integer N as input and returns the Nth number in the Fibonacci series. The Fibonacci series is defined as follows: F(0) = 0, F(1) = 1, and F(n) = F(n-1) + F(n-2) for n > 1."
   ]
  },
  {
   "cell_type": "code",
   "execution_count": null,
   "id": "cf6a33f3",
   "metadata": {},
   "outputs": [],
   "source": []
  }
 ],
 "metadata": {
  "kernelspec": {
   "display_name": "Python 3 (ipykernel)",
   "language": "python",
   "name": "python3"
  },
  "language_info": {
   "codemirror_mode": {
    "name": "ipython",
    "version": 3
   },
   "file_extension": ".py",
   "mimetype": "text/x-python",
   "name": "python",
   "nbconvert_exporter": "python",
   "pygments_lexer": "ipython3",
   "version": "3.11.5"
  }
 },
 "nbformat": 4,
 "nbformat_minor": 5
}
