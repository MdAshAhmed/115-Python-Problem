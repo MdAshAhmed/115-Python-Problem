{
 "cells": [
  {
   "cell_type": "code",
   "execution_count": 1,
   "id": "0f46d8c4",
   "metadata": {},
   "outputs": [],
   "source": [
    "# 44. Matrix Addition: Write a Python program to add two matrices represented as nested lists."
   ]
  },
  {
   "cell_type": "code",
   "execution_count": 2,
   "id": "44ccc054",
   "metadata": {},
   "outputs": [
    {
     "name": "stdout",
     "output_type": "stream",
     "text": [
      "Result of Matrix Addition:\n",
      "[10, 10, 10]\n",
      "[10, 10, 10]\n",
      "[10, 10, 10]\n"
     ]
    }
   ],
   "source": [
    "# Define the matrices as nested lists\n",
    "matrix1 = [[1, 2, 3],\n",
    "           [4, 5, 6],\n",
    "           [7, 8, 9]]\n",
    "\n",
    "matrix2 = [[9, 8, 7],\n",
    "           [6, 5, 4],\n",
    "           [3, 2, 1]]\n",
    "\n",
    "# Initialize an empty matrix to store the result\n",
    "result = []\n",
    "\n",
    "# Perform matrix addition\n",
    "for i in range(len(matrix1)):\n",
    "    row = []\n",
    "    for j in range(len(matrix1[0])):\n",
    "        row.append(matrix1[i][j] + matrix2[i][j])\n",
    "    result.append(row)\n",
    "\n",
    "# Print the result matrix\n",
    "print(\"Result of Matrix Addition:\")\n",
    "for row in result:\n",
    "    print(row)\n"
   ]
  },
  {
   "cell_type": "code",
   "execution_count": 3,
   "id": "1fe471b4",
   "metadata": {},
   "outputs": [],
   "source": [
    "# 45. Flatten Nested List: Write a Python program to flatten a given nested list and convert it into a single-dimensional list."
   ]
  },
  {
   "cell_type": "code",
   "execution_count": 4,
   "id": "a34cd6a3",
   "metadata": {},
   "outputs": [
    {
     "name": "stdout",
     "output_type": "stream",
     "text": [
      "Flattened List: [1, 2, 3, 4, 5, 6, 7, 8, 9]\n"
     ]
    }
   ],
   "source": [
    "# Given nested list\n",
    "nested_list = [[1, 2, [3, 4]], [5, 6], [7, 8, 9]]\n",
    "\n",
    "# Function to flatten the nested list\n",
    "def flatten_list(nested_list):\n",
    "    flattened_list = []\n",
    "    for sublist in nested_list:\n",
    "        if isinstance(sublist, list):\n",
    "            flattened_list.extend(flatten_list(sublist))\n",
    "        else:\n",
    "            flattened_list.append(sublist)\n",
    "    return flattened_list\n",
    "\n",
    "# Flatten the nested list\n",
    "flattened_list = flatten_list(nested_list)\n",
    "\n",
    "# Print the flattened list\n",
    "print(\"Flattened List:\", flattened_list)\n"
   ]
  },
  {
   "cell_type": "code",
   "execution_count": 5,
   "id": "e6743881",
   "metadata": {},
   "outputs": [],
   "source": [
    "# 46. List Element Frequency: Given a nested list containing lists of integers, write a Python program to count the frequency of each element in the entire nested list."
   ]
  },
  {
   "cell_type": "code",
   "execution_count": 6,
   "id": "e0ed51bb",
   "metadata": {},
   "outputs": [
    {
     "name": "stdout",
     "output_type": "stream",
     "text": [
      "Frequency of each element:\n",
      "1: 2\n",
      "2: 4\n",
      "3: 2\n",
      "4: 2\n",
      "5: 1\n"
     ]
    }
   ],
   "source": [
    "# Given nested list\n",
    "nested_list = [[1, 2, 3], [2, 3, 4, 5], [1, 2, 2, 4]]\n",
    "\n",
    "# Initialize a dictionary to store the frequency of each element\n",
    "frequency_dict = {}\n",
    "\n",
    "# Iterate through the nested list and count the frequency of each element\n",
    "for sublist in nested_list:\n",
    "    for num in sublist:\n",
    "        if num in frequency_dict:\n",
    "            frequency_dict[num] += 1\n",
    "        else:\n",
    "            frequency_dict[num] = 1\n",
    "\n",
    "# Print the frequency of each element\n",
    "print(\"Frequency of each element:\")\n",
    "for key, value in frequency_dict.items():\n",
    "    print(f\"{key}: {value}\")\n"
   ]
  },
  {
   "cell_type": "code",
   "execution_count": 7,
   "id": "c7d053d9",
   "metadata": {},
   "outputs": [],
   "source": [
    "# 47. Transpose Matrix: Write a Python program to transpose a given matrix represented as a nested list."
   ]
  },
  {
   "cell_type": "code",
   "execution_count": 8,
   "id": "b6776d1f",
   "metadata": {},
   "outputs": [
    {
     "name": "stdout",
     "output_type": "stream",
     "text": [
      "Original Matrix:\n",
      "[1, 2, 3]\n",
      "[4, 5, 6]\n",
      "[7, 8, 9]\n",
      "\n",
      "Transposed Matrix:\n",
      "[1, 4, 7]\n",
      "[2, 5, 8]\n",
      "[3, 6, 9]\n"
     ]
    }
   ],
   "source": [
    "# Given matrix as a nested list\n",
    "matrix = [[1, 2, 3],\n",
    "          [4, 5, 6],\n",
    "          [7, 8, 9]]\n",
    "\n",
    "# Transpose the matrix\n",
    "transposed_matrix = [[matrix[j][i] for j in range(len(matrix))] for i in range(len(matrix[0]))]\n",
    "\n",
    "# Print the transposed matrix\n",
    "print(\"Original Matrix:\")\n",
    "for row in matrix:\n",
    "    print(row)\n",
    "\n",
    "print(\"\\nTransposed Matrix:\")\n",
    "for row in transposed_matrix:\n",
    "    print(row)\n",
    "\n",
    "    "
   ]
  },
  {
   "cell_type": "code",
   "execution_count": 9,
   "id": "0bde6d6e",
   "metadata": {},
   "outputs": [],
   "source": [
    "# 48. List of Lists Concatenation: Given a list of nested lists, write a Python program to concatenate all the sublists into a single flat list."
   ]
  },
  {
   "cell_type": "code",
   "execution_count": 10,
   "id": "18bc00f1",
   "metadata": {},
   "outputs": [
    {
     "name": "stdout",
     "output_type": "stream",
     "text": [
      "Flat list after concatenation: [1, 2, 3, 4, 5, 6, 7, 8]\n"
     ]
    }
   ],
   "source": [
    "# Given list of nested lists\n",
    "nested_list = [[1, 2, 3], [4, 5], [6, 7, 8]]\n",
    "\n",
    "# Concatenate all sublists into a single flat list\n",
    "flat_list = [element for sublist in nested_list for element in sublist]\n",
    "\n",
    "# Print the flat list\n",
    "print(\"Flat list after concatenation:\", flat_list)\n"
   ]
  },
  {
   "cell_type": "code",
   "execution_count": 11,
   "id": "48da0eec",
   "metadata": {},
   "outputs": [],
   "source": [
    "# 49. Tuple Concatenation: Write a Python program to concatenate two tuples and create a new tuple."
   ]
  },
  {
   "cell_type": "code",
   "execution_count": 12,
   "id": "fbc7ce46",
   "metadata": {},
   "outputs": [
    {
     "name": "stdout",
     "output_type": "stream",
     "text": [
      "Concatenated tuple: (1, 2, 3, 4, 5, 6)\n"
     ]
    }
   ],
   "source": [
    "# Given tuples\n",
    "tuple1 = (1, 2, 3)\n",
    "tuple2 = (4, 5, 6)\n",
    "\n",
    "# Concatenate two tuples\n",
    "concatenated_tuple = tuple1 + tuple2\n",
    "\n",
    "# Print the concatenated tuple\n",
    "print(\"Concatenated tuple:\", concatenated_tuple)\n"
   ]
  },
  {
   "cell_type": "code",
   "execution_count": 13,
   "id": "75cab01c",
   "metadata": {},
   "outputs": [],
   "source": [
    "# 50. Tuple Unpacking: Given a tuple with three elements (x, y, z), write a Python program to unpack the tuple and assign the values to three variables."
   ]
  },
  {
   "cell_type": "code",
   "execution_count": 14,
   "id": "a7af1d84",
   "metadata": {},
   "outputs": [
    {
     "name": "stdout",
     "output_type": "stream",
     "text": [
      "Value of x: 10\n",
      "Value of y: 20\n",
      "Value of z: 30\n"
     ]
    }
   ],
   "source": [
    "# Given tuple with three elements\n",
    "my_tuple = (10, 20, 30)\n",
    "\n",
    "# Unpack the tuple and assign values to variables\n",
    "x, y, z = my_tuple\n",
    "\n",
    "# Print the values of variables\n",
    "print(\"Value of x:\", x)\n",
    "print(\"Value of y:\", y)\n",
    "print(\"Value of z:\", z)\n"
   ]
  },
  {
   "cell_type": "code",
   "execution_count": 15,
   "id": "eb743692",
   "metadata": {},
   "outputs": [],
   "source": [
    "# 51. Tuple Sorting: Write a Python program to sort a tuple of integers in ascending order."
   ]
  },
  {
   "cell_type": "code",
   "execution_count": 16,
   "id": "dceff950",
   "metadata": {},
   "outputs": [
    {
     "name": "stdout",
     "output_type": "stream",
     "text": [
      "Sorted tuple: (1, 2, 3, 5, 8)\n"
     ]
    }
   ],
   "source": [
    "# Given tuple of integers\n",
    "my_tuple = (5, 2, 8, 1, 3)\n",
    "\n",
    "# Convert the tuple to a sorted list\n",
    "sorted_list = sorted(my_tuple)\n",
    "\n",
    "# Convert the sorted list back to a tuple\n",
    "sorted_tuple = tuple(sorted_list)\n",
    "\n",
    "# Print the sorted tuple\n",
    "print(\"Sorted tuple:\", sorted_tuple)\n"
   ]
  },
  {
   "cell_type": "code",
   "execution_count": 17,
   "id": "fcabd24c",
   "metadata": {},
   "outputs": [],
   "source": [
    "# 52. Tuple Frequency Count: Given a tuple containing various elements, write a Python program to count the frequency of a specific element in the tuple."
   ]
  },
  {
   "cell_type": "code",
   "execution_count": 18,
   "id": "93445c67",
   "metadata": {},
   "outputs": [
    {
     "name": "stdout",
     "output_type": "stream",
     "text": [
      "Frequency of 2: 3\n"
     ]
    }
   ],
   "source": [
    "# Given tuple\n",
    "my_tuple = (1, 2, 3, 4, 2, 5, 2)\n",
    "\n",
    "# Element to count frequency\n",
    "element_to_count = 2\n",
    "\n",
    "# Count the frequency of the element in the tuple\n",
    "frequency = my_tuple.count(element_to_count)\n",
    "\n",
    "# Print the frequency\n",
    "print(f\"Frequency of {element_to_count}:\", frequency)\n"
   ]
  },
  {
   "cell_type": "code",
   "execution_count": 19,
   "id": "f642644c",
   "metadata": {},
   "outputs": [],
   "source": [
    "# 53. Tuple to List: Write a Python program to convert a tuple into a list."
   ]
  },
  {
   "cell_type": "code",
   "execution_count": 20,
   "id": "814e8981",
   "metadata": {},
   "outputs": [
    {
     "name": "stdout",
     "output_type": "stream",
     "text": [
      "Converted list: [1, 2, 3, 4, 5]\n"
     ]
    }
   ],
   "source": [
    "# Given tuple\n",
    "my_tuple = (1, 2, 3, 4, 5)\n",
    "\n",
    "# Convert the tuple to a list\n",
    "my_list = list(my_tuple)\n",
    "\n",
    "# Print the resulting list\n",
    "print(\"Converted list:\", my_list)\n"
   ]
  },
  {
   "cell_type": "code",
   "execution_count": 21,
   "id": "e94f166f",
   "metadata": {},
   "outputs": [],
   "source": [
    "# 54. Tuple Reversal: Write a Python program to reverse a tuple without using any built-in functions."
   ]
  },
  {
   "cell_type": "code",
   "execution_count": 22,
   "id": "9e415f32",
   "metadata": {},
   "outputs": [
    {
     "name": "stdout",
     "output_type": "stream",
     "text": [
      "Reversed tuple: (5, 4, 3, 2, 1)\n"
     ]
    }
   ],
   "source": [
    "# Given tuple\n",
    "my_tuple = (1, 2, 3, 4, 5)\n",
    "\n",
    "# Convert the tuple to a list\n",
    "my_list = list(my_tuple)\n",
    "\n",
    "# Reverse the list manually\n",
    "reversed_list = []\n",
    "for i in range(len(my_list) - 1, -1, -1):\n",
    "    reversed_list.append(my_list[i])\n",
    "\n",
    "# Convert the reversed list back to a tuple\n",
    "reversed_tuple = tuple(reversed_list)\n",
    "\n",
    "# Print the reversed tuple\n",
    "print(\"Reversed tuple:\", reversed_tuple)\n"
   ]
  },
  {
   "cell_type": "code",
   "execution_count": 23,
   "id": "3f0f5b94",
   "metadata": {},
   "outputs": [],
   "source": [
    "# 55. Tuple Slicing: Given a tuple, write a Python program to extract a slice of elements from it."
   ]
  },
  {
   "cell_type": "code",
   "execution_count": 24,
   "id": "0f78fd1c",
   "metadata": {},
   "outputs": [
    {
     "name": "stdout",
     "output_type": "stream",
     "text": [
      "Slice of elements from the tuple: (3, 4, 5, 6, 7)\n"
     ]
    }
   ],
   "source": [
    "# Given tuple\n",
    "my_tuple = (1, 2, 3, 4, 5, 6, 7, 8, 9)\n",
    "\n",
    "# Extract a slice of elements from the tuple\n",
    "slice_tuple = my_tuple[2:7]\n",
    "\n",
    "# Print the slice tuple\n",
    "print(\"Slice of elements from the tuple:\", slice_tuple)\n",
    "\n"
   ]
  },
  {
   "cell_type": "code",
   "execution_count": 25,
   "id": "aeb678da",
   "metadata": {},
   "outputs": [],
   "source": [
    "# 56. Tuple Operations: Given two tuples of integers, write a Python program to perform element-wise addition, subtraction, and multiplication and create new tuples for each operation."
   ]
  },
  {
   "cell_type": "code",
   "execution_count": 26,
   "id": "adddc377",
   "metadata": {},
   "outputs": [
    {
     "name": "stdout",
     "output_type": "stream",
     "text": [
      "Element-wise addition: (5, 7, 9)\n",
      "Element-wise subtraction: (-3, -3, -3)\n",
      "Element-wise multiplication: (4, 10, 18)\n"
     ]
    }
   ],
   "source": [
    "# Given tuples of integers\n",
    "tuple1 = (1, 2, 3)\n",
    "tuple2 = (4, 5, 6)\n",
    "\n",
    "# Element-wise addition\n",
    "addition_tuple = tuple(x + y for x, y in zip(tuple1, tuple2))\n",
    "\n",
    "# Element-wise subtraction\n",
    "subtraction_tuple = tuple(x - y for x, y in zip(tuple1, tuple2))\n",
    "\n",
    "# Element-wise multiplication\n",
    "multiplication_tuple = tuple(x * y for x, y in zip(tuple1, tuple2))\n",
    "\n",
    "# Print the tuples for each operation\n",
    "print(\"Element-wise addition:\", addition_tuple)\n",
    "print(\"Element-wise subtraction:\", subtraction_tuple)\n",
    "print(\"Element-wise multiplication:\", multiplication_tuple)\n",
    "\n"
   ]
  },
  {
   "cell_type": "code",
   "execution_count": 27,
   "id": "6ff94547",
   "metadata": {},
   "outputs": [],
   "source": [
    "# 57. Tuple Membership Test: Write a Python program that takes an element as input and checks if it exists in a given tuple."
   ]
  },
  {
   "cell_type": "code",
   "execution_count": 28,
   "id": "06eaef3c",
   "metadata": {},
   "outputs": [
    {
     "name": "stdout",
     "output_type": "stream",
     "text": [
      "Enter the element to check: 2\n",
      "The element 2 exists in the tuple.\n"
     ]
    }
   ],
   "source": [
    "# Given tuple\n",
    "my_tuple = (1, 2, 3, 4, 5)\n",
    "\n",
    "# Input element to check\n",
    "element_to_check = int(input(\"Enter the element to check: \"))\n",
    "\n",
    "# Perform membership test\n",
    "if element_to_check in my_tuple:\n",
    "    print(f\"The element {element_to_check} exists in the tuple.\")\n",
    "else:\n",
    "    print(f\"The element {element_to_check} does not exist in the tuple.\")\n"
   ]
  },
  {
   "cell_type": "code",
   "execution_count": 29,
   "id": "52ec6440",
   "metadata": {},
   "outputs": [],
   "source": [
    "# 58. Tuple Packing: Write a Python program to pack three variables into a single tuple and print the tuple."
   ]
  },
  {
   "cell_type": "code",
   "execution_count": 30,
   "id": "5693ebac",
   "metadata": {},
   "outputs": [
    {
     "name": "stdout",
     "output_type": "stream",
     "text": [
      "Packed Tuple: (10, 'hello', [1, 2, 3])\n"
     ]
    }
   ],
   "source": [
    "# Three variables to pack into a tuple\n",
    "var1 = 10\n",
    "var2 = \"hello\"\n",
    "var3 = [1, 2, 3]\n",
    "\n",
    "# Pack the variables into a single tuple\n",
    "packed_tuple = (var1, var2, var3)\n",
    "\n",
    "# Print the tuple\n",
    "print(\"Packed Tuple:\", packed_tuple)\n"
   ]
  },
  {
   "cell_type": "code",
   "execution_count": 31,
   "id": "17fcad7c",
   "metadata": {},
   "outputs": [],
   "source": [
    "# 59. Nested List Element Access: Given a nested list, write a Python program to access and print specific elements from it."
   ]
  },
  {
   "cell_type": "code",
   "execution_count": 32,
   "id": "3716070d",
   "metadata": {},
   "outputs": [
    {
     "name": "stdout",
     "output_type": "stream",
     "text": [
      "Element at index (0, 0): 1\n",
      "Element at index (1, 2): 6\n",
      "Element at index (2, 1): 8\n"
     ]
    }
   ],
   "source": [
    "# Given nested list\n",
    "nested_list = [[1, 2, 3], [4, 5, 6], [7, 8, 9]]\n",
    "\n",
    "# Access and print specific elements\n",
    "print(\"Element at index (0, 0):\", nested_list[0][0])\n",
    "print(\"Element at index (1, 2):\", nested_list[1][2])\n",
    "print(\"Element at index (2, 1):\", nested_list[2][1])\n"
   ]
  },
  {
   "cell_type": "code",
   "execution_count": 33,
   "id": "999a7bf7",
   "metadata": {},
   "outputs": [],
   "source": [
    "# 60. Nested List Flattening: Write a Python program to flatten a nested list and convert it into a single-dimensional list."
   ]
  },
  {
   "cell_type": "code",
   "execution_count": 34,
   "id": "17e662ae",
   "metadata": {},
   "outputs": [
    {
     "name": "stdout",
     "output_type": "stream",
     "text": [
      "Flattened List: [1, 2, [3, 4], 5, [6, 7], 8, 9, 10]\n"
     ]
    }
   ],
   "source": [
    "# Given nested list\n",
    "nested_list = [[1, 2, [3, 4]], [5, [6, 7]], 8, [9, 10]]\n",
    "\n",
    "# Initialize an empty list to store flattened elements\n",
    "flat_list = []\n",
    "\n",
    "# Iterate through the nested list\n",
    "for sublist in nested_list:\n",
    "    # If the element is a list, extend the flat_list with its flattened elements\n",
    "    if isinstance(sublist, list):\n",
    "        flat_list.extend(sublist)\n",
    "    # If the element is not a list, append it directly to the flat_list\n",
    "    else:\n",
    "        flat_list.append(sublist)\n",
    "\n",
    "# Print the flattened list\n",
    "print(\"Flattened List:\", flat_list)\n"
   ]
  },
  {
   "cell_type": "code",
   "execution_count": 35,
   "id": "88868cb9",
   "metadata": {},
   "outputs": [],
   "source": [
    "# 61. Nested List Sorting: Given a nested list containing lists of integers, write a Python program to sort the sublists based on their lengths."
   ]
  },
  {
   "cell_type": "code",
   "execution_count": 36,
   "id": "89b3fae5",
   "metadata": {},
   "outputs": [
    {
     "name": "stdout",
     "output_type": "stream",
     "text": [
      "Sorted Nested List: [[10], [4, 5], [1, 2, 3], [6, 7, 8, 9]]\n"
     ]
    }
   ],
   "source": [
    "# Given nested list\n",
    "nested_list = [[1, 2, 3], [4, 5], [6, 7, 8, 9], [10]]\n",
    "\n",
    "# Sort the sublists based on their lengths\n",
    "sorted_nested_list = sorted(nested_list, key=len)\n",
    "\n",
    "# Print the sorted nested list\n",
    "print(\"Sorted Nested List:\", sorted_nested_list)\n"
   ]
  },
  {
   "cell_type": "code",
   "execution_count": 37,
   "id": "f5a89a44",
   "metadata": {},
   "outputs": [],
   "source": [
    "# 62. List of Tuples Conversion: Given a nested list containing tuples of (x, y) coordinates, write a Python program to convert it into a list of x-coordinates and a list of y-coordinates."
   ]
  },
  {
   "cell_type": "code",
   "execution_count": 38,
   "id": "8b527bfa",
   "metadata": {},
   "outputs": [
    {
     "name": "stdout",
     "output_type": "stream",
     "text": [
      "List of x-coordinates: [1, 3, 5]\n",
      "List of y-coordinates: [2, 4, 6]\n"
     ]
    }
   ],
   "source": [
    "# Given nested list containing tuples of (x, y) coordinates\n",
    "nested_list = [(1, 2), (3, 4), (5, 6)]\n",
    "\n",
    "# Initialize lists to store x-coordinates and y-coordinates\n",
    "x_coordinates = []\n",
    "y_coordinates = []\n",
    "\n",
    "# Iterate through the nested list and extract x, y coordinates\n",
    "for coordinates in nested_list:\n",
    "    x, y = coordinates\n",
    "    x_coordinates.append(x)\n",
    "    y_coordinates.append(y)\n",
    "\n",
    "# Print the lists of x-coordinates and y-coordinates\n",
    "print(\"List of x-coordinates:\", x_coordinates)\n",
    "print(\"List of y-coordinates:\", y_coordinates)\n"
   ]
  },
  {
   "cell_type": "code",
   "execution_count": 39,
   "id": "a649b49c",
   "metadata": {},
   "outputs": [],
   "source": [
    "# 63. Matrix Transpose: Write a Python program to transpose a given matrix represented as a nested list."
   ]
  },
  {
   "cell_type": "code",
   "execution_count": 40,
   "id": "b08c6ea8",
   "metadata": {},
   "outputs": [
    {
     "name": "stdout",
     "output_type": "stream",
     "text": [
      "Original Matrix:\n",
      "[1, 2, 3]\n",
      "[4, 5, 6]\n",
      "[7, 8, 9]\n",
      "\n",
      "Transposed Matrix:\n",
      "[1, 4, 7]\n",
      "[2, 5, 8]\n",
      "[3, 6, 9]\n"
     ]
    }
   ],
   "source": [
    "# Given matrix represented as a nested list\n",
    "matrix = [[1, 2, 3],\n",
    "          [4, 5, 6],\n",
    "          [7, 8, 9]]\n",
    "\n",
    "# Transpose the matrix\n",
    "transposed_matrix = [[row[i] for row in matrix] for i in range(len(matrix[0]))]\n",
    "\n",
    "# Print the transposed matrix\n",
    "print(\"Original Matrix:\")\n",
    "for row in matrix:\n",
    "    print(row)\n",
    "\n",
    "print(\"\\nTransposed Matrix:\")\n",
    "for row in transposed_matrix:\n",
    "    print(row)\n"
   ]
  },
  {
   "cell_type": "code",
   "execution_count": 41,
   "id": "02dd4acc",
   "metadata": {},
   "outputs": [],
   "source": [
    "# 64. Nested List Concatenation: Given a list of nested lists, write a Python program to concatenate all the sublists into a single flat list."
   ]
  },
  {
   "cell_type": "code",
   "execution_count": 42,
   "id": "b3cb66f4",
   "metadata": {},
   "outputs": [
    {
     "name": "stdout",
     "output_type": "stream",
     "text": [
      "Flattened List: [1, 2, 3, 4, 5, 6, 7, 8]\n"
     ]
    }
   ],
   "source": [
    "# Given list of nested lists\n",
    "nested_list = [[1, 2, 3], [4, 5], [6, 7, 8]]\n",
    "\n",
    "# Concatenate all sublists into a single flat list\n",
    "flat_list = [element for sublist in nested_list for element in sublist]\n",
    "\n",
    "# Print the flat list\n",
    "print(\"Flattened List:\", flat_list)\n",
    "\n"
   ]
  },
  {
   "cell_type": "code",
   "execution_count": 43,
   "id": "182469f2",
   "metadata": {},
   "outputs": [],
   "source": [
    "# 65. Count Even Numbers: Write a Python program to count the number of even numbers in a nested list."
   ]
  },
  {
   "cell_type": "code",
   "execution_count": 44,
   "id": "7c8f0014",
   "metadata": {},
   "outputs": [
    {
     "name": "stdout",
     "output_type": "stream",
     "text": [
      "Number of even numbers: 6\n"
     ]
    }
   ],
   "source": [
    "# Given nested list\n",
    "nested_list = [[1, 2, 3], [4, 5, 6], [7, 8, 9, 10], [11, 12]]\n",
    "\n",
    "# Initialize a variable to count even numbers\n",
    "even_count = 0\n",
    "\n",
    "# Iterate through the nested list\n",
    "for sublist in nested_list:\n",
    "    for number in sublist:\n",
    "        if number % 2 == 0:\n",
    "            even_count += 1\n",
    "\n",
    "# Print the count of even numbers\n",
    "print(\"Number of even numbers:\", even_count)\n"
   ]
  },
  {
   "cell_type": "code",
   "execution_count": 45,
   "id": "1503a04c",
   "metadata": {},
   "outputs": [],
   "source": [
    "# 66. Maximum Element in Nested List: Write a Python program to find the maximum element in a nested list of integers."
   ]
  },
  {
   "cell_type": "code",
   "execution_count": 46,
   "id": "fe6fc320",
   "metadata": {},
   "outputs": [
    {
     "name": "stdout",
     "output_type": "stream",
     "text": [
      "Maximum element in the nested list: 12\n"
     ]
    }
   ],
   "source": [
    "# Given nested list\n",
    "nested_list = [[1, 2, 3], [4, 5, 6], [7, 8, 9, 10], [11, 12]]\n",
    "\n",
    "# Initialize max_element with the smallest possible integer value\n",
    "max_element = float('-inf')\n",
    "\n",
    "# Iterate through the nested list\n",
    "for sublist in nested_list:\n",
    "    for number in sublist:\n",
    "        if number > max_element:\n",
    "            max_element = number\n",
    "\n",
    "# Print the maximum element\n",
    "print(\"Maximum element in the nested list:\", max_element)\n"
   ]
  },
  {
   "cell_type": "code",
   "execution_count": 47,
   "id": "339af046",
   "metadata": {},
   "outputs": [],
   "source": [
    "# 67. Diagonal Sum of Matrix: Given a square matrix represented as a nested list, write a Python program to calculate the sum of the elements in the main diagonal."
   ]
  },
  {
   "cell_type": "code",
   "execution_count": 48,
   "id": "112fa4da",
   "metadata": {},
   "outputs": [
    {
     "name": "stdout",
     "output_type": "stream",
     "text": [
      "Sum of elements in the main diagonal: 15\n"
     ]
    }
   ],
   "source": [
    "# Given square matrix represented as a nested list\n",
    "matrix = [[1, 2, 3],\n",
    "          [4, 5, 6],\n",
    "          [7, 8, 9]]\n",
    "\n",
    "# Calculate the sum of the elements in the main diagonal\n",
    "diagonal_sum = sum(matrix[i][i] for i in range(len(matrix)))\n",
    "\n",
    "# Print the sum of the main diagonal elements\n",
    "print(\"Sum of elements in the main diagonal:\", diagonal_sum)\n"
   ]
  },
  {
   "cell_type": "code",
   "execution_count": 49,
   "id": "770ccbf6",
   "metadata": {},
   "outputs": [],
   "source": [
    "# 68. Nested List Element Search: Write a Python program to search for a specific element in a nested list and return its position (row and column indices).\n"
   ]
  },
  {
   "cell_type": "code",
   "execution_count": 50,
   "id": "e9594526",
   "metadata": {},
   "outputs": [
    {
     "name": "stdout",
     "output_type": "stream",
     "text": [
      "Element 5 found at position (row, column): (1, 1)\n"
     ]
    }
   ],
   "source": [
    "# Given nested list\n",
    "nested_list = [[1, 2, 3], [4, 5, 6], [7, 8, 9]]\n",
    "\n",
    "# Element to search for\n",
    "element_to_search = 5\n",
    "\n",
    "# Flag to indicate if element is found\n",
    "element_found = False\n",
    "\n",
    "# Iterate through the nested list to search for the element\n",
    "for i in range(len(nested_list)):\n",
    "    for j in range(len(nested_list[i])):\n",
    "        if nested_list[i][j] == element_to_search:\n",
    "            print(\"Element\", element_to_search, \"found at position (row, column):\", (i, j))\n",
    "            element_found = True\n",
    "            break\n",
    "    if element_found:\n",
    "        break\n",
    "\n",
    "# If element is not found\n",
    "if not element_found:\n",
    "    print(\"Element\", element_to_search, \"not found in the nested list.\")\n"
   ]
  },
  {
   "cell_type": "code",
   "execution_count": 51,
   "id": "a5671a5e",
   "metadata": {},
   "outputs": [],
   "source": [
    "# 69. Duplicate Removal: Write a Python program that takes a list of elements as input and creates a new set containing only the unique elements from the list."
   ]
  },
  {
   "cell_type": "code",
   "execution_count": 52,
   "id": "2dd88756",
   "metadata": {},
   "outputs": [
    {
     "name": "stdout",
     "output_type": "stream",
     "text": [
      "Set of unique elements: {1, 2, 3, 4, 5, 6}\n"
     ]
    }
   ],
   "source": [
    "# Input list of elements\n",
    "input_list = [1, 2, 3, 4, 1, 2, 5, 6, 3]\n",
    "\n",
    "# Create a set to store unique elements\n",
    "unique_elements_set = set(input_list)\n",
    "\n",
    "# Print the set of unique elements\n",
    "print(\"Set of unique elements:\", unique_elements_set)\n"
   ]
  },
  {
   "cell_type": "code",
   "execution_count": 53,
   "id": "ef212200",
   "metadata": {},
   "outputs": [],
   "source": [
    "# 70. Set Intersection: Given two sets A and B, write a Python program to find their intersection and print the common elements."
   ]
  },
  {
   "cell_type": "code",
   "execution_count": 54,
   "id": "25e06f09",
   "metadata": {},
   "outputs": [
    {
     "name": "stdout",
     "output_type": "stream",
     "text": [
      "Intersection of sets A and B: {4, 5}\n"
     ]
    }
   ],
   "source": [
    "# Given sets A and B\n",
    "set_A = {1, 2, 3, 4, 5}\n",
    "set_B = {4, 5, 6, 7, 8}\n",
    "\n",
    "# Find the intersection of sets A and B\n",
    "intersection_set = set_A.intersection(set_B)\n",
    "\n",
    "# Print the common elements (intersection)\n",
    "print(\"Intersection of sets A and B:\", intersection_set)\n"
   ]
  },
  {
   "cell_type": "code",
   "execution_count": 55,
   "id": "920f860e",
   "metadata": {},
   "outputs": [],
   "source": [
    "# 71. Set Union: Given two sets A and B, write a Python program to find their union and print all the distinct elements from both sets."
   ]
  },
  {
   "cell_type": "code",
   "execution_count": 56,
   "id": "c1a1fac5",
   "metadata": {},
   "outputs": [
    {
     "name": "stdout",
     "output_type": "stream",
     "text": [
      "Union of sets A and B: {1, 2, 3, 4, 5, 6, 7, 8}\n"
     ]
    }
   ],
   "source": [
    "# Given sets A and B\n",
    "set_A = {1, 2, 3, 4, 5}\n",
    "set_B = {4, 5, 6, 7, 8}\n",
    "\n",
    "# Find the union of sets A and B\n",
    "union_set = set_A.union(set_B)\n",
    "\n",
    "# Print the distinct elements (union)\n",
    "print(\"Union of sets A and B:\", union_set)\n"
   ]
  },
  {
   "cell_type": "code",
   "execution_count": 57,
   "id": "2ac57f6a",
   "metadata": {},
   "outputs": [],
   "source": [
    "# 72. Set Difference: Given two sets A and B, write a Python program to find the difference between set A and set B (i.e., elements present in A but not in B) and print the result."
   ]
  },
  {
   "cell_type": "code",
   "execution_count": 58,
   "id": "c07c22ec",
   "metadata": {},
   "outputs": [
    {
     "name": "stdout",
     "output_type": "stream",
     "text": [
      "Difference between sets A and B (A - B): {1, 2, 3}\n"
     ]
    }
   ],
   "source": [
    "# Given sets A and B\n",
    "set_A = {1, 2, 3, 4, 5}\n",
    "set_B = {4, 5, 6, 7, 8}\n",
    "\n",
    "# Find the difference between sets A and B\n",
    "difference_set = set_A - set_B\n",
    "\n",
    "# Print the difference\n",
    "print(\"Difference between sets A and B (A - B):\", difference_set)\n"
   ]
  },
  {
   "cell_type": "code",
   "execution_count": 63,
   "id": "9b68b0f4",
   "metadata": {},
   "outputs": [],
   "source": [
    "# 73. Set Symmetric Difference: Given two sets A and B, write a Python program to find the symmetric difference between the two sets (i.e., elements that are present in either set A or set B, but not in both) and print the result."
   ]
  },
  {
   "cell_type": "code",
   "execution_count": 64,
   "id": "b93580a4",
   "metadata": {},
   "outputs": [
    {
     "name": "stdout",
     "output_type": "stream",
     "text": [
      "Symmetric difference between sets A and B: {1, 2, 3, 6, 7, 8}\n"
     ]
    }
   ],
   "source": [
    "# Given sets A and B\n",
    "set_A = {1, 2, 3, 4, 5}\n",
    "set_B = {4, 5, 6, 7, 8}\n",
    "\n",
    "# Find the symmetric difference between sets A and B\n",
    "symmetric_difference_set = set_A.symmetric_difference(set_B)\n",
    "\n",
    "# Print the symmetric difference\n",
    "print(\"Symmetric difference between sets A and B:\", symmetric_difference_set)\n"
   ]
  },
  {
   "cell_type": "code",
   "execution_count": 61,
   "id": "1710e59d",
   "metadata": {},
   "outputs": [],
   "source": [
    "# 74. Set Operations: Given three sets A, B, and C, write a Python program to find and print the intersection of A and B, the union of B and C, and the difference between C and A."
   ]
  },
  {
   "cell_type": "code",
   "execution_count": 65,
   "id": "0384a451",
   "metadata": {},
   "outputs": [
    {
     "name": "stdout",
     "output_type": "stream",
     "text": [
      "Intersection of sets A and B: {4, 5}\n",
      "Union of sets B and C: {4, 5, 6, 7, 8, 9}\n",
      "Difference between sets C and A (C - A): {8, 9, 6, 7}\n"
     ]
    }
   ],
   "source": [
    "# Given sets A, B, and C\n",
    "set_A = {1, 2, 3, 4, 5}\n",
    "set_B = {4, 5, 6, 7, 8}\n",
    "set_C = {5, 6, 7, 8, 9}\n",
    "\n",
    "# Find and print the intersection of sets A and B\n",
    "intersection_AB = set_A.intersection(set_B)\n",
    "print(\"Intersection of sets A and B:\", intersection_AB)\n",
    "\n",
    "# Find and print the union of sets B and C\n",
    "union_BC = set_B.union(set_C)\n",
    "print(\"Union of sets B and C:\", union_BC)\n",
    "\n",
    "# Find and print the difference between sets C and A\n",
    "difference_CA = set_C - set_A\n",
    "print(\"Difference between sets C and A (C - A):\", difference_CA)\n"
   ]
  },
  {
   "cell_type": "code",
   "execution_count": 66,
   "id": "0f5d91bc",
   "metadata": {},
   "outputs": [],
   "source": [
    "# 75. Set Subset Check: Given two sets A and B, write a Python program to check if set A is a subset of set B and print the result."
   ]
  },
  {
   "cell_type": "code",
   "execution_count": 67,
   "id": "ab0e5c0a",
   "metadata": {},
   "outputs": [
    {
     "name": "stdout",
     "output_type": "stream",
     "text": [
      "Set A is a subset of set B.\n"
     ]
    }
   ],
   "source": [
    "# Given sets A and B\n",
    "set_A = {1, 2, 3}\n",
    "set_B = {1, 2, 3, 4, 5}\n",
    "\n",
    "# Check if set A is a subset of set B\n",
    "is_subset = set_A.issubset(set_B)\n",
    "\n",
    "# Print the result\n",
    "if is_subset:\n",
    "    print(\"Set A is a subset of set B.\")\n",
    "else:\n",
    "    print(\"Set A is not a subset of set B.\")\n"
   ]
  },
  {
   "cell_type": "code",
   "execution_count": 68,
   "id": "a2b97a54",
   "metadata": {},
   "outputs": [],
   "source": [
    "# 76. Set Superset Check: Given two sets A and B, write a Python program to check if set A is a superset of set B and print the result."
   ]
  },
  {
   "cell_type": "code",
   "execution_count": 69,
   "id": "28279c17",
   "metadata": {},
   "outputs": [
    {
     "name": "stdout",
     "output_type": "stream",
     "text": [
      "Set A is a superset of set B.\n"
     ]
    }
   ],
   "source": [
    "# Given sets A and B\n",
    "set_A = {1, 2, 3, 4, 5}\n",
    "set_B = {1, 2, 3}\n",
    "\n",
    "# Check if set A is a superset of set B\n",
    "is_superset = set_A.issuperset(set_B)\n",
    "\n",
    "# Print the result\n",
    "if is_superset:\n",
    "    print(\"Set A is a superset of set B.\")\n",
    "else:\n",
    "    print(\"Set A is not a superset of set B.\")\n"
   ]
  },
  {
   "cell_type": "code",
   "execution_count": 70,
   "id": "286de24b",
   "metadata": {},
   "outputs": [],
   "source": [
    "# 77. Set Length Check: Write a Python program that takes a set as input and prints the number of elements in the set."
   ]
  },
  {
   "cell_type": "code",
   "execution_count": 71,
   "id": "254c549b",
   "metadata": {},
   "outputs": [
    {
     "name": "stdout",
     "output_type": "stream",
     "text": [
      "Number of elements in the set: 5\n"
     ]
    }
   ],
   "source": [
    "# Input set\n",
    "input_set = {1, 2, 3, 4, 5}\n",
    "\n",
    "# Print the number of elements in the set\n",
    "print(\"Number of elements in the set:\", len(input_set))\n"
   ]
  },
  {
   "cell_type": "code",
   "execution_count": 72,
   "id": "115668d0",
   "metadata": {},
   "outputs": [],
   "source": [
    "# 76. Set Membership Test: Write a Python program that takes an element as input and checks if it exists in a given set. Print “Found” if the element is present and “Not Found” otherwise."
   ]
  },
  {
   "cell_type": "code",
   "execution_count": 73,
   "id": "8943c554",
   "metadata": {},
   "outputs": [
    {
     "name": "stdout",
     "output_type": "stream",
     "text": [
      "Enter an element to check its presence in the set: 3\n",
      "Found\n"
     ]
    }
   ],
   "source": [
    "# Given set\n",
    "given_set = {1, 2, 3, 4, 5}\n",
    "\n",
    "# Input element\n",
    "input_element = int(input(\"Enter an element to check its presence in the set: \"))\n",
    "\n",
    "# Check if the element exists in the set\n",
    "if input_element in given_set:\n",
    "    print(\"Found\")\n",
    "else:\n",
    "    print(\"Not Found\")\n"
   ]
  },
  {
   "cell_type": "code",
   "execution_count": 74,
   "id": "febf3c16",
   "metadata": {},
   "outputs": [],
   "source": [
    "# 77. Dictionary Manipulation: Given a dictionary with student names as keys and their corresponding scores as values, write a Python program to add a new student to the dictionary and update the score of an existing student."
   ]
  },
  {
   "cell_type": "code",
   "execution_count": 75,
   "id": "652bedaa",
   "metadata": {},
   "outputs": [
    {
     "name": "stdout",
     "output_type": "stream",
     "text": [
      "Enter the name of the student: Alice\n",
      "Enter the score of the student: 56\n",
      "Updated student scores: {'Alice': 56, 'Bob': 90, 'Charlie': 75}\n"
     ]
    }
   ],
   "source": [
    "# Given dictionary with student names as keys and scores as values\n",
    "student_scores = {'Alice': 85, 'Bob': 90, 'Charlie': 75}\n",
    "\n",
    "# Add a new student to the dictionary or update the score of an existing student\n",
    "new_student_name = input(\"Enter the name of the student: \")\n",
    "new_student_score = int(input(\"Enter the score of the student: \"))\n",
    "\n",
    "student_scores[new_student_name] = new_student_score\n",
    "\n",
    "# Print the updated dictionary\n",
    "print(\"Updated student scores:\", student_scores)\n"
   ]
  },
  {
   "cell_type": "code",
   "execution_count": 76,
   "id": "01cfb742",
   "metadata": {},
   "outputs": [],
   "source": [
    "# 78. Dictionary Keys and Values: Write a Python program that takes a dictionary as input and prints all the keys and values in separate lines."
   ]
  },
  {
   "cell_type": "code",
   "execution_count": 77,
   "id": "a664735c",
   "metadata": {},
   "outputs": [
    {
     "name": "stdout",
     "output_type": "stream",
     "text": [
      "Keys:\n",
      "a\n",
      "b\n",
      "c\n",
      "\n",
      "Values:\n",
      "1\n",
      "2\n",
      "3\n"
     ]
    }
   ],
   "source": [
    "# Input dictionary\n",
    "input_dict = {'a': 1, 'b': 2, 'c': 3}\n",
    "\n",
    "# Print keys\n",
    "print(\"Keys:\")\n",
    "for key in input_dict:\n",
    "    print(key)\n",
    "\n",
    "# Print values\n",
    "print(\"\\nValues:\")\n",
    "for value in input_dict.values():\n",
    "    print(value)\n"
   ]
  },
  {
   "cell_type": "code",
   "execution_count": 78,
   "id": "2f2f50e2",
   "metadata": {},
   "outputs": [],
   "source": [
    "# 79. Dictionary Length: Write a Python program to calculate and print the number of key-value pairs in a given dictionary."
   ]
  },
  {
   "cell_type": "code",
   "execution_count": 79,
   "id": "494a8399",
   "metadata": {},
   "outputs": [
    {
     "name": "stdout",
     "output_type": "stream",
     "text": [
      "Number of key-value pairs in the dictionary: 5\n"
     ]
    }
   ],
   "source": [
    "# Given dictionary\n",
    "given_dict = {'a': 1, 'b': 2, 'c': 3, 'd': 4, 'e': 5}\n",
    "\n",
    "# Calculate the number of key-value pairs\n",
    "num_pairs = len(given_dict)\n",
    "\n",
    "# Print the number of key-value pairs\n",
    "print(\"Number of key-value pairs in the dictionary:\", num_pairs)\n"
   ]
  },
  {
   "cell_type": "code",
   "execution_count": 80,
   "id": "f6fd9028",
   "metadata": {},
   "outputs": [],
   "source": [
    "# 80. Dictionary Value Search: Given a dictionary of items and their prices, write a Python program to search for an item based on its price and print the item’s name."
   ]
  },
  {
   "cell_type": "code",
   "execution_count": 81,
   "id": "1f509996",
   "metadata": {},
   "outputs": [
    {
     "name": "stdout",
     "output_type": "stream",
     "text": [
      "Enter the price to search for an item: 2\n",
      "Item found for the price 2.0 is: grape\n"
     ]
    }
   ],
   "source": [
    "# Given dictionary of items and their prices\n",
    "items_prices = {'apple': 2.50, 'banana': 1.50, 'orange': 3.00, 'grape': 2.00}\n",
    "\n",
    "# Input price to search for item\n",
    "search_price = float(input(\"Enter the price to search for an item: \"))\n",
    "\n",
    "# Search for the item based on the price\n",
    "found_item = None\n",
    "for item, price in items_prices.items():\n",
    "    if price == search_price:\n",
    "        found_item = item\n",
    "        break\n",
    "\n",
    "# Print the name of the item found based on the price\n",
    "if found_item:\n",
    "    print(\"Item found for the price\", search_price, \"is:\", found_item)\n",
    "else:\n",
    "    print(\"No item found for the price\", search_price)\n"
   ]
  },
  {
   "cell_type": "code",
   "execution_count": 82,
   "id": "17471f75",
   "metadata": {},
   "outputs": [],
   "source": [
    "# 81. Dictionary Merging: Given two dictionaries, write a Python program to merge them into a single dictionary and print the result."
   ]
  },
  {
   "cell_type": "code",
   "execution_count": 83,
   "id": "da529f7e",
   "metadata": {},
   "outputs": [
    {
     "name": "stdout",
     "output_type": "stream",
     "text": [
      "Merged dictionary: {'a': 1, 'b': 2, 'c': 3, 'd': 4}\n"
     ]
    }
   ],
   "source": [
    "# Given dictionaries\n",
    "dict1 = {'a': 1, 'b': 2}\n",
    "dict2 = {'c': 3, 'd': 4}\n",
    "\n",
    "# Merge the dictionaries\n",
    "merged_dict = {**dict1, **dict2}\n",
    "\n",
    "# Print the merged dictionary\n",
    "print(\"Merged dictionary:\", merged_dict)\n"
   ]
  },
  {
   "cell_type": "code",
   "execution_count": 84,
   "id": "bee4c6fb",
   "metadata": {},
   "outputs": [],
   "source": [
    "# 82. Dictionary Key Removal: Given a dictionary of items and their quantities, write a Python program to remove a specific item from the dictionary based on user input."
   ]
  },
  {
   "cell_type": "code",
   "execution_count": 87,
   "id": "2db5fa9e",
   "metadata": {},
   "outputs": [
    {
     "name": "stdout",
     "output_type": "stream",
     "text": [
      "Current dictionary: {'apple': 5, 'banana': 10, 'orange': 8, 'grape': 3}\n",
      "Enter the item to remove: 10\n",
      "Item 10 not found in the dictionary.\n"
     ]
    }
   ],
   "source": [
    "# Given dictionary of items and their quantities\n",
    "items_quantities = {'apple': 5, 'banana': 10, 'orange': 8, 'grape': 3}\n",
    "\n",
    "# Print the current dictionary\n",
    "print(\"Current dictionary:\", items_quantities)\n",
    "\n",
    "# Input item to remove\n",
    "item_to_remove = input(\"Enter the item to remove: \")\n",
    "\n",
    "# Check if the item exists in the dictionary\n",
    "if item_to_remove in items_quantities:\n",
    "    # Remove the item from the dictionary\n",
    "    del items_quantities[item_to_remove]\n",
    "    print(\"Item\", item_to_remove, \"removed from the dictionary.\")\n",
    "    # Print the updated dictionary\n",
    "    print(\"Updated dictionary:\", items_quantities)\n",
    "else:\n",
    "    print(\"Item\", item_to_remove, \"not found in the dictionary.\")\n"
   ]
  },
  {
   "cell_type": "code",
   "execution_count": 88,
   "id": "5f63ce10",
   "metadata": {},
   "outputs": [],
   "source": [
    "# 83. Dictionary Sorting: Given a dictionary with names as keys and corresponding ages as values, write a Python program to sort the dictionary based on age in ascending order."
   ]
  },
  {
   "cell_type": "code",
   "execution_count": 89,
   "id": "de3c2876",
   "metadata": {},
   "outputs": [
    {
     "name": "stdout",
     "output_type": "stream",
     "text": [
      "Sorted dictionary based on age in ascending order:\n",
      "David: 20\n",
      "Bob: 25\n",
      "Alice: 30\n",
      "Charlie: 35\n"
     ]
    }
   ],
   "source": [
    "# Given dictionary with names as keys and ages as values\n",
    "ages = {'Alice': 30, 'Bob': 25, 'Charlie': 35, 'David': 20}\n",
    "\n",
    "# Sort the dictionary based on ages in ascending order\n",
    "sorted_ages = sorted(ages.items(), key=lambda x: x[1])\n",
    "\n",
    "# Create a new dictionary from the sorted list of tuples\n",
    "sorted_dict = dict(sorted_ages)\n",
    "\n",
    "# Print the sorted dictionary\n",
    "print(\"Sorted dictionary based on age in ascending order:\")\n",
    "for name, age in sorted_dict.items():\n",
    "    print(f\"{name}: {age}\")\n"
   ]
  },
  {
   "cell_type": "code",
   "execution_count": 90,
   "id": "3302dcd8",
   "metadata": {},
   "outputs": [],
   "source": [
    "# 84. Dictionary Frequency Count: Write a Python program that takes a string as input and creates a dictionary containing each character as a key and its frequency as the value."
   ]
  },
  {
   "cell_type": "code",
   "execution_count": 91,
   "id": "d651de28",
   "metadata": {},
   "outputs": [
    {
     "name": "stdout",
     "output_type": "stream",
     "text": [
      "Enter a string: ash\n",
      "Character frequencies:\n",
      "a: 1\n",
      "s: 1\n",
      "h: 1\n"
     ]
    }
   ],
   "source": [
    "# Input string\n",
    "input_string = input(\"Enter a string: \")\n",
    "\n",
    "# Create an empty dictionary to store character frequencies\n",
    "char_frequency = {}\n",
    "\n",
    "# Iterate through each character in the input string\n",
    "for char in input_string:\n",
    "    # Check if the character is already in the dictionary\n",
    "    if char in char_frequency:\n",
    "        # If yes, increment its frequency by 1\n",
    "        char_frequency[char] += 1\n",
    "    else:\n",
    "        # If no, add the character to the dictionary with frequency 1\n",
    "        char_frequency[char] = 1\n",
    "\n",
    "# Print the dictionary containing character frequencies\n",
    "print(\"Character frequencies:\")\n",
    "for char, frequency in char_frequency.items():\n",
    "    print(f\"{char}: {frequency}\")\n"
   ]
  },
  {
   "cell_type": "code",
   "execution_count": 92,
   "id": "578e9c07",
   "metadata": {},
   "outputs": [],
   "source": [
    "# 85. Dictionary Comprehension: Given a list of integers, write a Python program to create a dictionary where the keys are the elements from the list, and the values are their squares."
   ]
  },
  {
   "cell_type": "code",
   "execution_count": 93,
   "id": "c0ed8675",
   "metadata": {},
   "outputs": [
    {
     "name": "stdout",
     "output_type": "stream",
     "text": [
      "Dictionary with elements as keys and their squares as values:\n",
      "{1: 1, 2: 4, 3: 9, 4: 16, 5: 25}\n"
     ]
    }
   ],
   "source": [
    "# Given list of integers\n",
    "input_list = [1, 2, 3, 4, 5]\n",
    "\n",
    "# Dictionary comprehension to create a dictionary of squares\n",
    "squares_dict = {num: num ** 2 for num in input_list}\n",
    "\n",
    "# Print the dictionary\n",
    "print(\"Dictionary with elements as keys and their squares as values:\")\n",
    "print(squares_dict)\n"
   ]
  },
  {
   "cell_type": "code",
   "execution_count": 94,
   "id": "99ffacc4",
   "metadata": {},
   "outputs": [],
   "source": [
    "# 86. Dictionary Key Check: Write a Python program that takes a key as input and checks if it exists in a given dictionary. Print “Key Found” if the key is present and “Key Not Found” otherwise."
   ]
  },
  {
   "cell_type": "code",
   "execution_count": 96,
   "id": "7cd3b511",
   "metadata": {},
   "outputs": [
    {
     "name": "stdout",
     "output_type": "stream",
     "text": [
      "Enter the key to check: a\n",
      "Key Found\n"
     ]
    }
   ],
   "source": [
    "# Given dictionary\n",
    "given_dict = {'a': 1, 'b': 2, 'c': 3, 'd': 4, 'e': 5}\n",
    "\n",
    "# Input key to check\n",
    "input_key = input(\"Enter the key to check: \")\n",
    "\n",
    "# Check if the key exists in the dictionary\n",
    "if input_key in given_dict:\n",
    "    print(\"Key Found\")\n",
    "else:\n",
    "    print(\"Key Not Found\")\n"
   ]
  },
  {
   "cell_type": "code",
   "execution_count": 97,
   "id": "8432ac94",
   "metadata": {},
   "outputs": [],
   "source": [
    "# 87. Access Nested Dictionary: Given a nested dictionary containing student details, write a Python program to access and print specific information such as a student’s name, age, and address."
   ]
  },
  {
   "cell_type": "code",
   "execution_count": 98,
   "id": "5089a04f",
   "metadata": {},
   "outputs": [
    {
     "name": "stdout",
     "output_type": "stream",
     "text": [
      "Student Details:\n",
      "Name: Bob\n",
      "Age: 21\n",
      "Address: 456 Avenue, City2\n"
     ]
    }
   ],
   "source": [
    "# Given nested dictionary containing student details\n",
    "students = {\n",
    "    'student1': {\n",
    "        'name': 'Alice',\n",
    "        'age': 20,\n",
    "        'address': '123 Street, City1'\n",
    "    },\n",
    "    'student2': {\n",
    "        'name': 'Bob',\n",
    "        'age': 21,\n",
    "        'address': '456 Avenue, City2'\n",
    "    },\n",
    "    'student3': {\n",
    "        'name': 'Charlie',\n",
    "        'age': 22,\n",
    "        'address': '789 Road, City3'\n",
    "    }\n",
    "}\n",
    "\n",
    "# Access and print specific information for a student\n",
    "student_name = 'student2'\n",
    "print(\"Student Details:\")\n",
    "print(f\"Name: {students[student_name]['name']}\")\n",
    "print(f\"Age: {students[student_name]['age']}\")\n",
    "print(f\"Address: {students[student_name]['address']}\")\n"
   ]
  },
  {
   "cell_type": "code",
   "execution_count": 99,
   "id": "4c277e4c",
   "metadata": {},
   "outputs": [],
   "source": [
    "# 88. Nested Dictionary Length: Write a Python program to calculate and print the total number of key-value pairs in a nested dictionary."
   ]
  },
  {
   "cell_type": "code",
   "execution_count": 100,
   "id": "50af2c60",
   "metadata": {},
   "outputs": [
    {
     "name": "stdout",
     "output_type": "stream",
     "text": [
      "Total number of key-value pairs in the nested dictionary: 8\n"
     ]
    }
   ],
   "source": [
    "# Given nested dictionary\n",
    "nested_dict = {\n",
    "    'outer_key1': {'inner_key1': 1, 'inner_key2': 2, 'inner_key3': 3},\n",
    "    'outer_key2': {'inner_key4': 4, 'inner_key5': 5},\n",
    "    'outer_key3': {'inner_key6': 6, 'inner_key7': 7, 'inner_key8': 8}\n",
    "}\n",
    "\n",
    "# Calculate total number of key-value pairs in the nested dictionary\n",
    "total_pairs = sum(len(inner_dict) for inner_dict in nested_dict.values())\n",
    "\n",
    "# Print the total number of key-value pairs\n",
    "print(\"Total number of key-value pairs in the nested dictionary:\", total_pairs)\n"
   ]
  },
  {
   "cell_type": "code",
   "execution_count": 101,
   "id": "a4c1582f",
   "metadata": {},
   "outputs": [],
   "source": [
    "# 89. Nested Dictionary Update: Given a nested dictionary of employee details, write a Python program to update an employee’s salary based on their employee ID."
   ]
  },
  {
   "cell_type": "code",
   "execution_count": 105,
   "id": "e08fcfba",
   "metadata": {},
   "outputs": [
    {
     "name": "stdout",
     "output_type": "stream",
     "text": [
      "Enter the employee ID: Alice\n",
      "Enter the new salary: 50000000\n",
      "Employee ID not found.\n"
     ]
    }
   ],
   "source": [
    "# Given nested dictionary of employee details\n",
    "employees = {\n",
    "    'emp1': {'name': 'Alice', 'salary': 50000},\n",
    "    'emp2': {'name': 'Bob', 'salary': 60000},\n",
    "    'emp3': {'name': 'Charlie', 'salary': 70000}\n",
    "}\n",
    "\n",
    "# Input employee ID and new salary\n",
    "emp_id = input(\"Enter the employee ID: \")\n",
    "new_salary = float(input(\"Enter the new salary: \"))\n",
    "\n",
    "# Check if the employee ID exists in the dictionary\n",
    "if emp_id in employees:\n",
    "    # Update the salary for the specified employee\n",
    "    employees[emp_id]['salary'] = new_salary\n",
    "    print(\"Salary updated successfully.\")\n",
    "    print(\"Updated employee details:\")\n",
    "    print(employees[emp_id])\n",
    "else:\n",
    "    print(\"Employee ID not found.\")\n"
   ]
  },
  {
   "cell_type": "code",
   "execution_count": 106,
   "id": "1a15d499",
   "metadata": {},
   "outputs": [],
   "source": [
    "# 90. Nested Dictionary Sorting: Given a nested dictionary containing product details (product name, price, and quantity), write a Python program to sort the products based on their prices in ascending order."
   ]
  },
  {
   "cell_type": "code",
   "execution_count": 107,
   "id": "a8c4e2a5",
   "metadata": {},
   "outputs": [
    {
     "name": "stdout",
     "output_type": "stream",
     "text": [
      "Products sorted based on prices in ascending order:\n",
      "Product ID: product3\n",
      "Name: Tablet\n",
      "Price: 400\n",
      "Quantity: 8\n",
      "\n",
      "Product ID: product2\n",
      "Name: Smartphone\n",
      "Price: 600\n",
      "Quantity: 10\n",
      "\n",
      "Product ID: product1\n",
      "Name: Laptop\n",
      "Price: 800\n",
      "Quantity: 5\n",
      "\n"
     ]
    }
   ],
   "source": [
    "# Given nested dictionary containing product details\n",
    "products = {\n",
    "    'product1': {'name': 'Laptop', 'price': 800, 'quantity': 5},\n",
    "    'product2': {'name': 'Smartphone', 'price': 600, 'quantity': 10},\n",
    "    'product3': {'name': 'Tablet', 'price': 400, 'quantity': 8}\n",
    "}\n",
    "\n",
    "# Sort the products based on prices in ascending order\n",
    "sorted_products = sorted(products.items(), key=lambda x: x[1]['price'])\n",
    "\n",
    "# Print the sorted products\n",
    "print(\"Products sorted based on prices in ascending order:\")\n",
    "for product_id, product_details in sorted_products:\n",
    "    print(f\"Product ID: {product_id}\")\n",
    "    print(f\"Name: {product_details['name']}\")\n",
    "    print(f\"Price: {product_details['price']}\")\n",
    "    print(f\"Quantity: {product_details['quantity']}\")\n",
    "    print()\n"
   ]
  },
  {
   "cell_type": "code",
   "execution_count": 108,
   "id": "0cbf2b49",
   "metadata": {},
   "outputs": [],
   "source": [
    "# 91. Nested Dictionary Key Search: Write a Python program that takes a key as input and searches for it in a nested dictionary. If found, print the corresponding value, otherwise, print “Key Not Found.”"
   ]
  },
  {
   "cell_type": "code",
   "execution_count": null,
   "id": "27c390fa",
   "metadata": {},
   "outputs": [],
   "source": [
    "# Given nested dictionary\n",
    "nested_dict = {\n",
    "    'outer_key1': {'inner_key1': 1, 'inner_key2': 2, 'inner_key3': 3},\n",
    "    'outer_key2': {'inner_key4': 4, 'inner_key5': 5},\n",
    "    'outer_key3': {'inner_key6': 6, 'inner_key7': 7, 'inner_key8': 8}\n",
    "}\n",
    "\n",
    "# Input key to search\n",
    "input_key = input(\"Enter the key to search: \")\n",
    "\n",
    "# Flag to indicate if the key is found\n",
    "key_found = False\n",
    "\n",
    "# Search for the key in the nested dictionary\n",
    "for outer_key, inner_dict in nested_dict.items():\n",
    "    if input_key in inner_dict:\n",
    "        print(\"Value corresponding to key\", input_key, \":\", inner_dict[input_key])\n",
    "        key_found = True\n",
    "        break\n",
    "\n",
    "# If key is not found, print \"Key Not Found\"\n",
    "if not key_found:\n",
    "    print(\"Key Not Found\")\n"
   ]
  },
  {
   "cell_type": "code",
   "execution_count": null,
   "id": "cc457703",
   "metadata": {},
   "outputs": [],
   "source": []
  }
 ],
 "metadata": {
  "kernelspec": {
   "display_name": "Python 3 (ipykernel)",
   "language": "python",
   "name": "python3"
  },
  "language_info": {
   "codemirror_mode": {
    "name": "ipython",
    "version": 3
   },
   "file_extension": ".py",
   "mimetype": "text/x-python",
   "name": "python",
   "nbconvert_exporter": "python",
   "pygments_lexer": "ipython3",
   "version": "3.11.5"
  }
 },
 "nbformat": 4,
 "nbformat_minor": 5
}
